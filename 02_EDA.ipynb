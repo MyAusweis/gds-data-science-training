{
 "cells": [
  {
   "cell_type": "markdown",
   "metadata": {
    "colab_type": "text",
    "id": "view-in-github"
   },
   "source": [
    "<a href=\"https://colab.research.google.com/github/mneedham/data-science-training/blob/master/02_EDA.ipynb\" target=\"_parent\"><img src=\"https://colab.research.google.com/assets/colab-badge.svg\" alt=\"Open In Colab\"/></a>"
   ]
  },
  {
   "cell_type": "markdown",
   "metadata": {},
   "source": [
    "# Exploratory Data Analysis\n",
    "\n",
    "In this notebook we're going to explore the citation dataset. We should already have installed py2neo, pandas, and matplotlib when setting up our environment, so let's get those imported:"
   ]
  },
  {
   "cell_type": "code",
   "execution_count": null,
   "metadata": {},
   "outputs": [],
   "source": [
    "from neo4j import GraphDatabase\n",
    "import pandas as pd\n",
    "\n",
    "import matplotlib \n",
    "import matplotlib.pyplot as plt\n",
    "\n",
    "plt.style.use('fivethirtyeight')\n",
    "pd.set_option('display.float_format', lambda x: '%.3f' % x)"
   ]
  },
  {
   "cell_type": "code",
   "execution_count": null,
   "metadata": {},
   "outputs": [],
   "source": [
    "driver = GraphDatabase.driver(\"bolt://data-science-training-neo4j\", auth=(\"neo4j\", \"admin\"))        \n",
    "print(driver.address)"
   ]
  },
  {
   "cell_type": "markdown",
   "metadata": {},
   "source": [
    "## What's in our database?\n",
    "\n",
    "Now we can run the following query to check how many nodes our database contains:"
   ]
  },
  {
   "cell_type": "code",
   "execution_count": null,
   "metadata": {},
   "outputs": [],
   "source": [
    "with driver.session() as session:\n",
    "    result = session.run(\"CALL db.schema()\")\n",
    "    for row in result:\n",
    "        print(f\"nodes: {row['nodes']}\")\n",
    "        print(f\"relationships: {row['relationships']}\")"
   ]
  },
  {
   "cell_type": "markdown",
   "metadata": {},
   "source": [
    "If we run `CALL db.schema()` in the Neo4j Browser (http://localhost:7474/browser/), we'll see the following visualisation:\n",
    "\n",
    "<img src=\"images/data-science-training.png\" alt=\"Graph Data Model\"/>\n"
   ]
  },
  {
   "cell_type": "markdown",
   "metadata": {},
   "source": [
    "Let's drill down a bit. How many nodes do we have for each of these labels?"
   ]
  },
  {
   "cell_type": "code",
   "execution_count": null,
   "metadata": {},
   "outputs": [],
   "source": [
    "result = {\"label\": [], \"count\": []}\n",
    "with driver.session() as session:\n",
    "    for row in session.run(\"CALL db.labels()\"):\n",
    "        label = row[\"label\"]\n",
    "        query = f\"MATCH (:`{label}`) RETURN count(*) as count\"\n",
    "        count = session.run(query).single()[\"count\"]\n",
    "        result[\"label\"].append(label)\n",
    "        result[\"count\"].append(count)\n",
    "nodes_df = pd.DataFrame(data=result)\n",
    "nodes_df.sort_values(\"count\")"
   ]
  },
  {
   "cell_type": "markdown",
   "metadata": {},
   "source": [
    "We can visualize the counts using matplotlib with the following code:"
   ]
  },
  {
   "cell_type": "code",
   "execution_count": null,
   "metadata": {},
   "outputs": [],
   "source": [
    "nodes_df.plot(kind='bar', x='label', y='count', legend=None, title=\"Node Cardinalities\")\n",
    "plt.yscale(\"log\")\n",
    "plt.xticks(rotation=45)\n",
    "plt.tight_layout()\n",
    "plt.show()"
   ]
  },
  {
   "cell_type": "markdown",
   "metadata": {},
   "source": [
    "And what types of relationships do we have?"
   ]
  },
  {
   "cell_type": "code",
   "execution_count": null,
   "metadata": {},
   "outputs": [],
   "source": [
    "result = {\"relType\": [], \"count\": []}\n",
    "with driver.session() as session:\n",
    "    for row in session.run(\"CALL db.relationshipTypes()\"):\n",
    "        relationship_type = row[\"relationshipType\"]\n",
    "        query = f\"MATCH ()-[:`{relationship_type}`]->() RETURN count(*) as count\"\n",
    "        count = session.run(query).single()[\"count\"]\n",
    "        result[\"relType\"].append(relationship_type)\n",
    "        result[\"count\"].append(count)\n",
    "rels_df = pd.DataFrame(data=result)\n",
    "rels_df.sort_values(\"count\")"
   ]
  },
  {
   "cell_type": "markdown",
   "metadata": {},
   "source": [
    "We can visualize the counts using matplotlib with the following code:"
   ]
  },
  {
   "cell_type": "code",
   "execution_count": null,
   "metadata": {},
   "outputs": [],
   "source": [
    "rels_df.plot(kind='bar', x='relType', y='count', legend=None, title=\"Relationship Cardinalities\")\n",
    "plt.xticks(rotation=45)\n",
    "plt.tight_layout()\n",
    "plt.show()"
   ]
  },
  {
   "cell_type": "markdown",
   "metadata": {},
   "source": [
    "Now let's explore the citation data. The following query finds 25 authors, articles, venues, and also shows the number of articles that article has cited, as well as the number of articles that it's been cited by."
   ]
  },
  {
   "cell_type": "code",
   "execution_count": null,
   "metadata": {},
   "outputs": [],
   "source": [
    "exploratory_query = \"\"\"\n",
    "MATCH (author:Author)<-[:AUTHOR]-(article:Article)-[:VENUE]->(venue)\n",
    "RETURN article.title AS article, author.name AS author, venue.name AS venue, \n",
    "       size((article)-[:CITED]->()) AS citationsGiven, size((article)<-[:CITED]-()) AS citationsReceived\n",
    "ORDER BY rand()\n",
    "LIMIT 25\n",
    "\"\"\"\n",
    "\n",
    "with driver.session() as session:\n",
    "    result = session.run(exploratory_query)\n",
    "\n",
    "pd.DataFrame([dict(record) for record in result])"
   ]
  },
  {
   "cell_type": "markdown",
   "metadata": {},
   "source": [
    "Let's look into the citation data more closely. We'll write a query that returns the number of citations that each article has, and then create a distribution of those counts using pandas `describe` function:"
   ]
  },
  {
   "cell_type": "code",
   "execution_count": null,
   "metadata": {},
   "outputs": [],
   "source": [
    "query = \"\"\"\n",
    "MATCH (a:Article)\n",
    "RETURN size((a)<-[:CITED]-()) AS citations\n",
    "\"\"\"\n",
    "\n",
    "with driver.session() as session:\n",
    "    result = session.run(query)\n",
    "\n",
    "citation_df = pd.DataFrame([dict(record) for record in result])\n",
    "citation_df.describe([.25, .5, .75, .9, .99])"
   ]
  },
  {
   "cell_type": "markdown",
   "metadata": {},
   "source": [
    "Most articles are being cited very few times. 99% of articles have 1 citation or less. We do, however, have one article that's been cited more than 200 times. We'll use a log scale histogram to visualise the data;"
   ]
  },
  {
   "cell_type": "code",
   "execution_count": null,
   "metadata": {},
   "outputs": [],
   "source": [
    "ax1.hist(pd.Series(citation_df['citations'].dropna()), 1250, density=True, facecolor='g', alpha=0.75)\n",
    "ax1.set_xscale(\"log\")\n",
    "plt.tight_layout()\n",
    "plt.show()"
   ]
  },
  {
   "cell_type": "markdown",
   "metadata": {},
   "source": [
    "## Exercise\n",
    "\n",
    "* Can you create a similar chart showing the articles that cite the most other papers? Note that you'll only need to do a slight tweak of the Cypher query to do this. \n",
    "* What about a distribution of the number of articles published by authors?\n",
    "\n",
    "Keep the results of these exercises handy as they form part of the Check your understanding quiz at the end of this module."
   ]
  }
 ],
 "metadata": {
  "kernelspec": {
   "display_name": "Python 3",
   "language": "python",
   "name": "python3"
  },
  "language_info": {
   "codemirror_mode": {
    "name": "ipython",
    "version": 3
   },
   "file_extension": ".py",
   "mimetype": "text/x-python",
   "name": "python",
   "nbconvert_exporter": "python",
   "pygments_lexer": "ipython3",
   "version": "3.7.3"
  }
 },
 "nbformat": 4,
 "nbformat_minor": 2
}
