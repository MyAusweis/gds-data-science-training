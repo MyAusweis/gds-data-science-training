{
 "cells": [
  {
   "cell_type": "markdown",
   "metadata": {
    "colab_type": "text",
    "id": "view-in-github"
   },
   "source": [
    "<a href=\"https://colab.research.google.com/github/mneedham/data-science-training/blob/master/02_EDA.ipynb\" target=\"_parent\"><img src=\"https://colab.research.google.com/assets/colab-badge.svg\" alt=\"Open In Colab\"/></a>"
   ]
  },
  {
   "cell_type": "markdown",
   "metadata": {},
   "source": [
    "# Exploratory Data Analysis\n",
    "\n",
    "In this notebook we're going to explore the citation dataset that we we imported in the previous notebook. As with the previous notebook let's install and import py2neo and pandas. We'll also install matplotlib to create some charts showing us the shape of the data."
   ]
  },
  {
   "cell_type": "code",
   "execution_count": null,
   "metadata": {},
   "outputs": [],
   "source": [
    "!pip install py2neo pandas matplotlib"
   ]
  },
  {
   "cell_type": "markdown",
   "metadata": {},
   "source": [
    "And let's import those libraries:"
   ]
  },
  {
   "cell_type": "code",
   "execution_count": 14,
   "metadata": {},
   "outputs": [],
   "source": [
    "from py2neo import Graph\n",
    "import pandas as pd\n",
    "\n",
    "import matplotlib \n",
    "import matplotlib.pyplot as plt\n",
    "\n",
    "plt.style.use('fivethirtyeight')\n",
    "pd.set_option('display.float_format', lambda x: '%.3f' % x)"
   ]
  },
  {
   "cell_type": "markdown",
   "metadata": {},
   "source": [
    "\n",
    "Update the cell below with the same Sandbox credentials that you used in the first notebook:"
   ]
  },
  {
   "cell_type": "code",
   "execution_count": 3,
   "metadata": {},
   "outputs": [],
   "source": [
    "# Change the line of code below to use the IP Address, Bolt Port, and Password of your Sandbox.\n",
    "# graph = Graph(\"bolt://<IP Address>:<Bolt Port>\", auth=(\"neo4j\", \"<Password>\")) \n",
    "\n",
    "# graph = Graph(\"bolt://18.234.168.45:33679\", auth=(\"neo4j\", \"daybreak-cosal-rumbles\")) \n",
    "graph = Graph(\"bolt://localhost\", auth=(\"neo4j\", \"neo\")) "
   ]
  },
  {
   "cell_type": "markdown",
   "metadata": {},
   "source": [
    "## What's in our database?\n",
    "\n",
    "Now we can run the following query to check how many nodes our database contains:"
   ]
  },
  {
   "cell_type": "code",
   "execution_count": 4,
   "metadata": {},
   "outputs": [
    {
     "data": {
      "text/plain": [
       "[{'nodes': [(_-3:Venue {constraints: ['CONSTRAINT ON ( venue:Venue ) ASSERT venue.name IS UNIQUE'], indexes: [], name: 'Venue'}),\n",
       "   (_-1:Article {constraints: ['CONSTRAINT ON ( article:Article ) ASSERT article.index IS UNIQUE'], indexes: [], name: 'Article'}),\n",
       "   (_-2:Author {constraints: ['CONSTRAINT ON ( author:Author ) ASSERT author.name IS UNIQUE'], indexes: [], name: 'Author'})],\n",
       "  'relationships': [(Article)-[:VENUE {}]->(Venue),\n",
       "   (Article)-[:AUTHOR {}]->(Author),\n",
       "   (Article)-[:CITED {}]->(Article)]}]"
      ]
     },
     "execution_count": 4,
     "metadata": {},
     "output_type": "execute_result"
    }
   ],
   "source": [
    "graph.run(\"CALL db.schema()\").data()"
   ]
  },
  {
   "cell_type": "markdown",
   "metadata": {},
   "source": [
    "If we run that query in the Neo4j Browser, we'll see the following visualisation:\n",
    "\n",
    "<img src=\"images/data-science-training.png\" alt=\"Graph Data Model\"/>\n"
   ]
  },
  {
   "cell_type": "markdown",
   "metadata": {},
   "source": [
    "Let's drill down a bit. How many nodes do we have for each of these labels?"
   ]
  },
  {
   "cell_type": "code",
   "execution_count": 7,
   "metadata": {},
   "outputs": [
    {
     "data": {
      "text/html": [
       "<div>\n",
       "<style scoped>\n",
       "    .dataframe tbody tr th:only-of-type {\n",
       "        vertical-align: middle;\n",
       "    }\n",
       "\n",
       "    .dataframe tbody tr th {\n",
       "        vertical-align: top;\n",
       "    }\n",
       "\n",
       "    .dataframe thead th {\n",
       "        text-align: right;\n",
       "    }\n",
       "</style>\n",
       "<table border=\"1\" class=\"dataframe\">\n",
       "  <thead>\n",
       "    <tr style=\"text-align: right;\">\n",
       "      <th></th>\n",
       "      <th>label</th>\n",
       "      <th>count</th>\n",
       "    </tr>\n",
       "  </thead>\n",
       "  <tbody>\n",
       "    <tr>\n",
       "      <th>2</th>\n",
       "      <td>Venue</td>\n",
       "      <td>4</td>\n",
       "    </tr>\n",
       "    <tr>\n",
       "      <th>1</th>\n",
       "      <td>Author</td>\n",
       "      <td>80299</td>\n",
       "    </tr>\n",
       "    <tr>\n",
       "      <th>0</th>\n",
       "      <td>Article</td>\n",
       "      <td>184313</td>\n",
       "    </tr>\n",
       "  </tbody>\n",
       "</table>\n",
       "</div>"
      ],
      "text/plain": [
       "     label   count\n",
       "2    Venue       4\n",
       "1   Author   80299\n",
       "0  Article  184313"
      ]
     },
     "execution_count": 7,
     "metadata": {},
     "output_type": "execute_result"
    }
   ],
   "source": [
    "result = {\"label\": [], \"count\": []}\n",
    "for label in graph.run(\"CALL db.labels()\").to_series():\n",
    "    query = f\"MATCH (:`{label}`) RETURN count(*) as count\"\n",
    "    count = graph.run(query).to_data_frame().iloc[0]['count']\n",
    "    result[\"label\"].append(label)\n",
    "    result[\"count\"].append(count)\n",
    "nodes_df = pd.DataFrame(data=result)\n",
    "nodes_df.sort_values(\"count\")"
   ]
  },
  {
   "cell_type": "markdown",
   "metadata": {},
   "source": [
    "We can visualize this counts using matplotlib with the following code:"
   ]
  },
  {
   "cell_type": "code",
   "execution_count": 15,
   "metadata": {},
   "outputs": [
    {
     "data": {
      "image/png": "[encoded data removed]",
      "text/plain": [
       "<Figure size 432x288 with 1 Axes>"
      ]
     },
     "metadata": {
      "needs_background": "light"
     },
     "output_type": "display_data"
    }
   ],
   "source": [
    "nodes_df.plot(kind='bar', x='label', y='count', legend=None, title=\"Node Cardinalities\")\n",
    "plt.yscale(\"log\")\n",
    "plt.xticks(rotation=45)\n",
    "plt.tight_layout()\n",
    "plt.show()"
   ]
  },
  {
   "cell_type": "markdown",
   "metadata": {},
   "source": [
    "And what types of relationships do we have?"
   ]
  },
  {
   "cell_type": "code",
   "execution_count": 9,
   "metadata": {},
   "outputs": [
    {
     "data": {
      "text/html": [
       "<div>\n",
       "<style scoped>\n",
       "    .dataframe tbody tr th:only-of-type {\n",
       "        vertical-align: middle;\n",
       "    }\n",
       "\n",
       "    .dataframe tbody tr th {\n",
       "        vertical-align: top;\n",
       "    }\n",
       "\n",
       "    .dataframe thead th {\n",
       "        text-align: right;\n",
       "    }\n",
       "</style>\n",
       "<table border=\"1\" class=\"dataframe\">\n",
       "  <thead>\n",
       "    <tr style=\"text-align: right;\">\n",
       "      <th></th>\n",
       "      <th>relType</th>\n",
       "      <th>count</th>\n",
       "    </tr>\n",
       "  </thead>\n",
       "  <tbody>\n",
       "    <tr>\n",
       "      <th>0</th>\n",
       "      <td>VENUE</td>\n",
       "      <td>51956</td>\n",
       "    </tr>\n",
       "    <tr>\n",
       "      <th>1</th>\n",
       "      <td>AUTHOR</td>\n",
       "      <td>140575</td>\n",
       "    </tr>\n",
       "    <tr>\n",
       "      <th>2</th>\n",
       "      <td>CITED</td>\n",
       "      <td>289908</td>\n",
       "    </tr>\n",
       "  </tbody>\n",
       "</table>\n",
       "</div>"
      ],
      "text/plain": [
       "  relType   count\n",
       "0   VENUE   51956\n",
       "1  AUTHOR  140575\n",
       "2   CITED  289908"
      ]
     },
     "execution_count": 9,
     "metadata": {},
     "output_type": "execute_result"
    }
   ],
   "source": [
    "result = {\"relType\": [], \"count\": []}\n",
    "for relationship_type in graph.run(\"CALL db.relationshipTypes()\").to_series():\n",
    "    query = f\"MATCH ()-[:`{relationship_type}`]->() RETURN count(*) as count\"\n",
    "    count = graph.run(query).to_data_frame().iloc[0]['count']\n",
    "    result[\"relType\"].append(relationship_type)\n",
    "    result[\"count\"].append(count)\n",
    "rels_df = pd.DataFrame(data=result)\n",
    "rels_df.sort_values(\"count\")"
   ]
  },
  {
   "cell_type": "markdown",
   "metadata": {},
   "source": [
    "We can visualize this counts using matplotlib with the following code:"
   ]
  },
  {
   "cell_type": "code",
   "execution_count": 13,
   "metadata": {},
   "outputs": [
    {
     "data": {
      "image/png": "[encoded data removed]",
      "text/plain": [
       "<Figure size 432x288 with 1 Axes>"
      ]
     },
     "metadata": {
      "needs_background": "light"
     },
     "output_type": "display_data"
    }
   ],
   "source": [
    "rels_df.plot(kind='bar', x='relType', y='count', legend=None, title=\"Relationship Cardinalities\")\n",
    "plt.xticks(rotation=45)\n",
    "plt.tight_layout()\n",
    "plt.show()"
   ]
  },
  {
   "cell_type": "markdown",
   "metadata": {},
   "source": [
    "Now let's explore the citation data. The following query finds 25 authors, articles, venues, and also shows the number of articles that article has cited, as well as the number of articles that it's been cited by."
   ]
  },
  {
   "cell_type": "code",
   "execution_count": 36,
   "metadata": {},
   "outputs": [
    {
     "data": {
      "text/html": [
       "<div>\n",
       "<style scoped>\n",
       "    .dataframe tbody tr th:only-of-type {\n",
       "        vertical-align: middle;\n",
       "    }\n",
       "\n",
       "    .dataframe tbody tr th {\n",
       "        vertical-align: top;\n",
       "    }\n",
       "\n",
       "    .dataframe thead th {\n",
       "        text-align: right;\n",
       "    }\n",
       "</style>\n",
       "<table border=\"1\" class=\"dataframe\">\n",
       "  <thead>\n",
       "    <tr style=\"text-align: right;\">\n",
       "      <th></th>\n",
       "      <th>article</th>\n",
       "      <th>author</th>\n",
       "      <th>citationsGiven</th>\n",
       "      <th>citationsReceived</th>\n",
       "      <th>venue</th>\n",
       "    </tr>\n",
       "  </thead>\n",
       "  <tbody>\n",
       "    <tr>\n",
       "      <th>0</th>\n",
       "      <td>Social Analysis of the SEKE Co-Author Network</td>\n",
       "      <td>Rehab El-Kharboutly</td>\n",
       "      <td>11</td>\n",
       "      <td>0</td>\n",
       "      <td>international conference on software engineering</td>\n",
       "    </tr>\n",
       "    <tr>\n",
       "      <th>1</th>\n",
       "      <td>Multi-resolution vessel segmentation using nor...</td>\n",
       "      <td>Wenchao Cai</td>\n",
       "      <td>0</td>\n",
       "      <td>0</td>\n",
       "      <td>Lecture Notes in Computer Science</td>\n",
       "    </tr>\n",
       "    <tr>\n",
       "      <th>2</th>\n",
       "      <td>Writing dynamic service orchestrations with DSOL</td>\n",
       "      <td>Carlo Ghezzi</td>\n",
       "      <td>4</td>\n",
       "      <td>0</td>\n",
       "      <td>international conference on software engineering</td>\n",
       "    </tr>\n",
       "    <tr>\n",
       "      <th>3</th>\n",
       "      <td>A useful system prototype for intrusion detect...</td>\n",
       "      <td>Huiqiang Wang</td>\n",
       "      <td>0</td>\n",
       "      <td>0</td>\n",
       "      <td>Lecture Notes in Computer Science</td>\n",
       "    </tr>\n",
       "    <tr>\n",
       "      <th>4</th>\n",
       "      <td>Stride: search-based deterministic replay in p...</td>\n",
       "      <td>Jinguo Zhou</td>\n",
       "      <td>28</td>\n",
       "      <td>1</td>\n",
       "      <td>international conference on software engineering</td>\n",
       "    </tr>\n",
       "    <tr>\n",
       "      <th>5</th>\n",
       "      <td>Impact of process simulation on software pract...</td>\n",
       "      <td>Liming Zhu</td>\n",
       "      <td>31</td>\n",
       "      <td>0</td>\n",
       "      <td>international conference on software engineering</td>\n",
       "    </tr>\n",
       "    <tr>\n",
       "      <th>6</th>\n",
       "      <td>A type-checking program linkage system for pascal</td>\n",
       "      <td>Richard B. Kieburtz</td>\n",
       "      <td>3</td>\n",
       "      <td>0</td>\n",
       "      <td>international conference on software engineering</td>\n",
       "    </tr>\n",
       "    <tr>\n",
       "      <th>7</th>\n",
       "      <td>SourcererCC and SourcererCC-I: tools to detect...</td>\n",
       "      <td>Vaibhav Saini</td>\n",
       "      <td>20</td>\n",
       "      <td>0</td>\n",
       "      <td>international conference on software engineering</td>\n",
       "    </tr>\n",
       "    <tr>\n",
       "      <th>8</th>\n",
       "      <td>Design of affordances for direct manipulation ...</td>\n",
       "      <td>Lucia Terrenghi</td>\n",
       "      <td>0</td>\n",
       "      <td>0</td>\n",
       "      <td>Lecture Notes in Computer Science</td>\n",
       "    </tr>\n",
       "    <tr>\n",
       "      <th>9</th>\n",
       "      <td>Providing Reliable Agents for Electronic Commerce</td>\n",
       "      <td>Markus Straßer</td>\n",
       "      <td>5</td>\n",
       "      <td>3</td>\n",
       "      <td>Lecture Notes in Computer Science</td>\n",
       "    </tr>\n",
       "    <tr>\n",
       "      <th>10</th>\n",
       "      <td>Fingerprint reference point detection</td>\n",
       "      <td>Xudong Jiang</td>\n",
       "      <td>9</td>\n",
       "      <td>0</td>\n",
       "      <td>Lecture Notes in Computer Science</td>\n",
       "    </tr>\n",
       "    <tr>\n",
       "      <th>11</th>\n",
       "      <td>Model-based design of concurrent programs</td>\n",
       "      <td>Jeff Kramer</td>\n",
       "      <td>0</td>\n",
       "      <td>0</td>\n",
       "      <td>Lecture Notes in Computer Science</td>\n",
       "    </tr>\n",
       "    <tr>\n",
       "      <th>12</th>\n",
       "      <td>Context-sensitive complementary information re...</td>\n",
       "      <td>Qiang Ma</td>\n",
       "      <td>0</td>\n",
       "      <td>0</td>\n",
       "      <td>Lecture Notes in Computer Science</td>\n",
       "    </tr>\n",
       "    <tr>\n",
       "      <th>13</th>\n",
       "      <td>Diversity coded directed diffusion for WSN</td>\n",
       "      <td>G. N. Shinde</td>\n",
       "      <td>4</td>\n",
       "      <td>0</td>\n",
       "      <td>advances in computing and communications</td>\n",
       "    </tr>\n",
       "    <tr>\n",
       "      <th>14</th>\n",
       "      <td>Validating Specifications for Model-Based Testing</td>\n",
       "      <td>P.M. Achten</td>\n",
       "      <td>0</td>\n",
       "      <td>0</td>\n",
       "      <td>international conference on software engineering</td>\n",
       "    </tr>\n",
       "    <tr>\n",
       "      <th>15</th>\n",
       "      <td>U can touch this: touchifying an IDE</td>\n",
       "      <td>Julien Hoffmann</td>\n",
       "      <td>17</td>\n",
       "      <td>0</td>\n",
       "      <td>international conference on software engineering</td>\n",
       "    </tr>\n",
       "    <tr>\n",
       "      <th>16</th>\n",
       "      <td>Agent-oriented modeling by interleaving formal...</td>\n",
       "      <td>Angelo Susi</td>\n",
       "      <td>0</td>\n",
       "      <td>0</td>\n",
       "      <td>Lecture Notes in Computer Science</td>\n",
       "    </tr>\n",
       "    <tr>\n",
       "      <th>17</th>\n",
       "      <td>Is multicore hardware for general-purpose para...</td>\n",
       "      <td>Uzi Vishkin</td>\n",
       "      <td>4</td>\n",
       "      <td>0</td>\n",
       "      <td>Communications of The ACM</td>\n",
       "    </tr>\n",
       "    <tr>\n",
       "      <th>18</th>\n",
       "      <td>HiXEval: highlighting XML retrieval evaluation</td>\n",
       "      <td>Jovan Pehcevski</td>\n",
       "      <td>7</td>\n",
       "      <td>1</td>\n",
       "      <td>Lecture Notes in Computer Science</td>\n",
       "    </tr>\n",
       "    <tr>\n",
       "      <th>19</th>\n",
       "      <td>Real-time simulator of collaborative autonomou...</td>\n",
       "      <td>Vincent Lapointe</td>\n",
       "      <td>6</td>\n",
       "      <td>0</td>\n",
       "      <td>advances in computing and communications</td>\n",
       "    </tr>\n",
       "    <tr>\n",
       "      <th>20</th>\n",
       "      <td>Towards a general framework for substitutional...</td>\n",
       "      <td>Giuseppe Vizzari</td>\n",
       "      <td>11</td>\n",
       "      <td>0</td>\n",
       "      <td>Lecture Notes in Computer Science</td>\n",
       "    </tr>\n",
       "    <tr>\n",
       "      <th>21</th>\n",
       "      <td>An approach to the assessment of applied infor...</td>\n",
       "      <td>Michael Gurstein</td>\n",
       "      <td>0</td>\n",
       "      <td>0</td>\n",
       "      <td>Lecture Notes in Computer Science</td>\n",
       "    </tr>\n",
       "    <tr>\n",
       "      <th>22</th>\n",
       "      <td>Motion planning by the homotopy continuation m...</td>\n",
       "      <td>Scott C. Amiss</td>\n",
       "      <td>1</td>\n",
       "      <td>0</td>\n",
       "      <td>advances in computing and communications</td>\n",
       "    </tr>\n",
       "    <tr>\n",
       "      <th>23</th>\n",
       "      <td>Vision-based spacecraft relative navigation us...</td>\n",
       "      <td>Bin Jia</td>\n",
       "      <td>4</td>\n",
       "      <td>0</td>\n",
       "      <td>advances in computing and communications</td>\n",
       "    </tr>\n",
       "    <tr>\n",
       "      <th>24</th>\n",
       "      <td>System for Medical Image Retrieval: The MIMS M...</td>\n",
       "      <td>André Flory</td>\n",
       "      <td>3</td>\n",
       "      <td>0</td>\n",
       "      <td>Lecture Notes in Computer Science</td>\n",
       "    </tr>\n",
       "  </tbody>\n",
       "</table>\n",
       "</div>"
      ],
      "text/plain": [
       "                                              article               author  \\\n",
       "0       Social Analysis of the SEKE Co-Author Network  Rehab El-Kharboutly   \n",
       "1   Multi-resolution vessel segmentation using nor...          Wenchao Cai   \n",
       "2    Writing dynamic service orchestrations with DSOL         Carlo Ghezzi   \n",
       "3   A useful system prototype for intrusion detect...        Huiqiang Wang   \n",
       "4   Stride: search-based deterministic replay in p...          Jinguo Zhou   \n",
       "5   Impact of process simulation on software pract...           Liming Zhu   \n",
       "6   A type-checking program linkage system for pascal  Richard B. Kieburtz   \n",
       "7   SourcererCC and SourcererCC-I: tools to detect...        Vaibhav Saini   \n",
       "8   Design of affordances for direct manipulation ...      Lucia Terrenghi   \n",
       "9   Providing Reliable Agents for Electronic Commerce       Markus Straßer   \n",
       "10              Fingerprint reference point detection         Xudong Jiang   \n",
       "11          Model-based design of concurrent programs          Jeff Kramer   \n",
       "12  Context-sensitive complementary information re...             Qiang Ma   \n",
       "13         Diversity coded directed diffusion for WSN         G. N. Shinde   \n",
       "14  Validating Specifications for Model-Based Testing          P.M. Achten   \n",
       "15               U can touch this: touchifying an IDE      Julien Hoffmann   \n",
       "16  Agent-oriented modeling by interleaving formal...          Angelo Susi   \n",
       "17  Is multicore hardware for general-purpose para...          Uzi Vishkin   \n",
       "18     HiXEval: highlighting XML retrieval evaluation      Jovan Pehcevski   \n",
       "19  Real-time simulator of collaborative autonomou...     Vincent Lapointe   \n",
       "20  Towards a general framework for substitutional...     Giuseppe Vizzari   \n",
       "21  An approach to the assessment of applied infor...     Michael Gurstein   \n",
       "22  Motion planning by the homotopy continuation m...       Scott C. Amiss   \n",
       "23  Vision-based spacecraft relative navigation us...              Bin Jia   \n",
       "24  System for Medical Image Retrieval: The MIMS M...          André Flory   \n",
       "\n",
       "    citationsGiven  citationsReceived  \\\n",
       "0               11                  0   \n",
       "1                0                  0   \n",
       "2                4                  0   \n",
       "3                0                  0   \n",
       "4               28                  1   \n",
       "5               31                  0   \n",
       "6                3                  0   \n",
       "7               20                  0   \n",
       "8                0                  0   \n",
       "9                5                  3   \n",
       "10               9                  0   \n",
       "11               0                  0   \n",
       "12               0                  0   \n",
       "13               4                  0   \n",
       "14               0                  0   \n",
       "15              17                  0   \n",
       "16               0                  0   \n",
       "17               4                  0   \n",
       "18               7                  1   \n",
       "19               6                  0   \n",
       "20              11                  0   \n",
       "21               0                  0   \n",
       "22               1                  0   \n",
       "23               4                  0   \n",
       "24               3                  0   \n",
       "\n",
       "                                               venue  \n",
       "0   international conference on software engineering  \n",
       "1                  Lecture Notes in Computer Science  \n",
       "2   international conference on software engineering  \n",
       "3                  Lecture Notes in Computer Science  \n",
       "4   international conference on software engineering  \n",
       "5   international conference on software engineering  \n",
       "6   international conference on software engineering  \n",
       "7   international conference on software engineering  \n",
       "8                  Lecture Notes in Computer Science  \n",
       "9                  Lecture Notes in Computer Science  \n",
       "10                 Lecture Notes in Computer Science  \n",
       "11                 Lecture Notes in Computer Science  \n",
       "12                 Lecture Notes in Computer Science  \n",
       "13          advances in computing and communications  \n",
       "14  international conference on software engineering  \n",
       "15  international conference on software engineering  \n",
       "16                 Lecture Notes in Computer Science  \n",
       "17                         Communications of The ACM  \n",
       "18                 Lecture Notes in Computer Science  \n",
       "19          advances in computing and communications  \n",
       "20                 Lecture Notes in Computer Science  \n",
       "21                 Lecture Notes in Computer Science  \n",
       "22          advances in computing and communications  \n",
       "23          advances in computing and communications  \n",
       "24                 Lecture Notes in Computer Science  "
      ]
     },
     "execution_count": 36,
     "metadata": {},
     "output_type": "execute_result"
    }
   ],
   "source": [
    "exploratory_query = \"\"\"\n",
    "MATCH (author:Author)<-[:AUTHOR]-(article:Article)-[:VENUE]->(venue)\n",
    "RETURN article.title AS article, author.name AS author, venue.name AS venue, \n",
    "       size((article)-[:CITED]->()) AS citationsGiven, size((article)<-[:CITED]-()) AS citationsReceived\n",
    "ORDER BY rand()\n",
    "LIMIT 25\n",
    "\"\"\"\n",
    "\n",
    "graph.run(exploratory_query).to_data_frame()"
   ]
  },
  {
   "cell_type": "markdown",
   "metadata": {},
   "source": [
    "Let's look into the citation data more closely."
   ]
  },
  {
   "cell_type": "code",
   "execution_count": 23,
   "metadata": {},
   "outputs": [
    {
     "data": {
      "text/html": [
       "<div>\n",
       "<style scoped>\n",
       "    .dataframe tbody tr th:only-of-type {\n",
       "        vertical-align: middle;\n",
       "    }\n",
       "\n",
       "    .dataframe tbody tr th {\n",
       "        vertical-align: top;\n",
       "    }\n",
       "\n",
       "    .dataframe thead th {\n",
       "        text-align: right;\n",
       "    }\n",
       "</style>\n",
       "<table border=\"1\" class=\"dataframe\">\n",
       "  <thead>\n",
       "    <tr style=\"text-align: right;\">\n",
       "      <th></th>\n",
       "      <th>citations</th>\n",
       "    </tr>\n",
       "  </thead>\n",
       "  <tbody>\n",
       "    <tr>\n",
       "      <th>count</th>\n",
       "      <td>442822.000</td>\n",
       "    </tr>\n",
       "    <tr>\n",
       "      <th>mean</th>\n",
       "      <td>4.005</td>\n",
       "    </tr>\n",
       "    <tr>\n",
       "      <th>std</th>\n",
       "      <td>11.859</td>\n",
       "    </tr>\n",
       "    <tr>\n",
       "      <th>min</th>\n",
       "      <td>0.000</td>\n",
       "    </tr>\n",
       "    <tr>\n",
       "      <th>25%</th>\n",
       "      <td>1.000</td>\n",
       "    </tr>\n",
       "    <tr>\n",
       "      <th>50%</th>\n",
       "      <td>1.000</td>\n",
       "    </tr>\n",
       "    <tr>\n",
       "      <th>75%</th>\n",
       "      <td>3.000</td>\n",
       "    </tr>\n",
       "    <tr>\n",
       "      <th>90%</th>\n",
       "      <td>8.000</td>\n",
       "    </tr>\n",
       "    <tr>\n",
       "      <th>99%</th>\n",
       "      <td>40.000</td>\n",
       "    </tr>\n",
       "    <tr>\n",
       "      <th>max</th>\n",
       "      <td>1250.000</td>\n",
       "    </tr>\n",
       "  </tbody>\n",
       "</table>\n",
       "</div>"
      ],
      "text/plain": [
       "       citations\n",
       "count 442822.000\n",
       "mean       4.005\n",
       "std       11.859\n",
       "min        0.000\n",
       "25%        1.000\n",
       "50%        1.000\n",
       "75%        3.000\n",
       "90%        8.000\n",
       "99%       40.000\n",
       "max     1250.000"
      ]
     },
     "execution_count": 23,
     "metadata": {},
     "output_type": "execute_result"
    }
   ],
   "source": [
    "query = \"\"\"\n",
    "MATCH (a:Article)\n",
    "RETURN size((a)<-[:CITED]-()) AS citations\n",
    "\"\"\"\n",
    "\n",
    "citation_df = graph.run(query).to_data_frame()\n",
    "citation_df.describe([.25, .5, .75, .9, .99])"
   ]
  },
  {
   "cell_type": "markdown",
   "metadata": {},
   "source": [
    "Most articles are being cited very few times. 75% of articles have 3 citations or less. We do, however, have one article that's been cited more than 1,000 times. We'll use a log scale histogram to visualise the data;"
   ]
  },
  {
   "cell_type": "code",
   "execution_count": 17,
   "metadata": {},
   "outputs": [
    {
     "data": {
      "image/png": "[encoded data removed]",
      "text/plain": [
       "<Figure size 432x288 with 1 Axes>"
      ]
     },
     "metadata": {},
     "output_type": "display_data"
    }
   ],
   "source": [
    "fig1, ax1 = plt.subplots()\n",
    "ax1.hist(pd.Series(citation_df['citations'].dropna()), 1250, density=True, facecolor='g', alpha=0.75)\n",
    "ax1.set_xscale(\"log\")\n",
    "plt.tight_layout()\n",
    "plt.show()"
   ]
  },
  {
   "cell_type": "markdown",
   "metadata": {},
   "source": [
    "## Exercise\n",
    "\n",
    "* Can you create a similar chart showing the articles that cite the most other papers?\n",
    "* What about a distribution of the number of articles published by authors?"
   ]
  }
 ],
 "metadata": {
  "kernelspec": {
   "display_name": "Python 3",
   "language": "python",
   "name": "python3"
  },
  "language_info": {
   "codemirror_mode": {
    "name": "ipython",
    "version": 3
   },
   "file_extension": ".py",
   "mimetype": "text/x-python",
   "name": "python",
   "nbconvert_exporter": "python",
   "pygments_lexer": "ipython3",
   "version": "3.6.7"
  }
 },
 "nbformat": 4,
 "nbformat_minor": 2
}
