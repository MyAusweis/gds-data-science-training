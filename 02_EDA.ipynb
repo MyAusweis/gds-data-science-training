{
 "cells": [
  {
   "cell_type": "markdown",
   "metadata": {
    "colab_type": "text",
    "id": "view-in-github"
   },
   "source": [
    "<a href=\"https://colab.research.google.com/github/mneedham/data-science-training/blob/master/02_EDA.ipynb\" target=\"_parent\"><img src=\"https://colab.research.google.com/assets/colab-badge.svg\" alt=\"Open In Colab\"/></a>"
   ]
  },
  {
   "cell_type": "markdown",
   "metadata": {},
   "source": [
    "# Exploratory Data Analysis\n",
    "\n",
    "In this notebook we're going to explore the citation dataset. We should already have installed py2neo, pandas, and matplotlib when setting up our environment, so let's get those imported:"
   ]
  },
  {
   "cell_type": "code",
   "execution_count": 1,
   "metadata": {},
   "outputs": [],
   "source": [
    "from neo4j import GraphDatabase\n",
    "import pandas as pd\n",
    "\n",
    "import matplotlib \n",
    "import matplotlib.pyplot as plt\n",
    "\n",
    "plt.style.use('fivethirtyeight')\n",
    "pd.set_option('display.float_format', lambda x: '%.3f' % x)"
   ]
  },
  {
   "cell_type": "code",
   "execution_count": 2,
   "metadata": {},
   "outputs": [
    {
     "name": "stdout",
     "output_type": "stream",
     "text": [
      "Address(host='data-science-training-neo4j', port=7687)\n"
     ]
    }
   ],
   "source": [
    "driver = GraphDatabase.driver(\"bolt://data-science-training-neo4j\", auth=(\"neo4j\", \"admin\"))        \n",
    "print(driver.address)"
   ]
  },
  {
   "cell_type": "markdown",
   "metadata": {},
   "source": [
    "## What's in our database?\n",
    "\n",
    "Now we can run the following query to check how many nodes our database contains:"
   ]
  },
  {
   "cell_type": "code",
   "execution_count": 3,
   "metadata": {
    "scrolled": true
   },
   "outputs": [
    {
     "name": "stdout",
     "output_type": "stream",
     "text": [
      "nodes: [<Node id=-3 labels={'Venue'} properties={'indexes': [], 'name': 'Venue', 'constraints': ['CONSTRAINT ON ( venue:Venue ) ASSERT venue.name IS UNIQUE']}>, <Node id=-1 labels={'Article'} properties={'indexes': ['title,abstract'], 'name': 'Article', 'constraints': ['CONSTRAINT ON ( article:Article ) ASSERT article.index IS UNIQUE']}>, <Node id=-2 labels={'Author'} properties={'indexes': [], 'name': 'Author', 'constraints': ['CONSTRAINT ON ( author:Author ) ASSERT author.name IS UNIQUE']}>]\n",
      "relationships: [<Relationship id=-5 nodes=(<Node id=-2 labels={'Author'} properties={'indexes': [], 'name': 'Author', 'constraints': ['CONSTRAINT ON ( author:Author ) ASSERT author.name IS UNIQUE']}>, <Node id=-2 labels={'Author'} properties={'indexes': [], 'name': 'Author', 'constraints': ['CONSTRAINT ON ( author:Author ) ASSERT author.name IS UNIQUE']}>) type='CO_AUTHOR_EARLY' properties={}>, <Relationship id=-1 nodes=(<Node id=-1 labels={'Article'} properties={'indexes': ['title,abstract'], 'name': 'Article', 'constraints': ['CONSTRAINT ON ( article:Article ) ASSERT article.index IS UNIQUE']}>, <Node id=-3 labels={'Venue'} properties={'indexes': [], 'name': 'Venue', 'constraints': ['CONSTRAINT ON ( venue:Venue ) ASSERT venue.name IS UNIQUE']}>) type='VENUE' properties={}>, <Relationship id=-2 nodes=(<Node id=-1 labels={'Article'} properties={'indexes': ['title,abstract'], 'name': 'Article', 'constraints': ['CONSTRAINT ON ( article:Article ) ASSERT article.index IS UNIQUE']}>, <Node id=-2 labels={'Author'} properties={'indexes': [], 'name': 'Author', 'constraints': ['CONSTRAINT ON ( author:Author ) ASSERT author.name IS UNIQUE']}>) type='AUTHOR' properties={}>, <Relationship id=-4 nodes=(<Node id=-2 labels={'Author'} properties={'indexes': [], 'name': 'Author', 'constraints': ['CONSTRAINT ON ( author:Author ) ASSERT author.name IS UNIQUE']}>, <Node id=-2 labels={'Author'} properties={'indexes': [], 'name': 'Author', 'constraints': ['CONSTRAINT ON ( author:Author ) ASSERT author.name IS UNIQUE']}>) type='CO_AUTHOR' properties={}>, <Relationship id=-6 nodes=(<Node id=-2 labels={'Author'} properties={'indexes': [], 'name': 'Author', 'constraints': ['CONSTRAINT ON ( author:Author ) ASSERT author.name IS UNIQUE']}>, <Node id=-2 labels={'Author'} properties={'indexes': [], 'name': 'Author', 'constraints': ['CONSTRAINT ON ( author:Author ) ASSERT author.name IS UNIQUE']}>) type='CO_AUTHOR_LATE' properties={}>, <Relationship id=-3 nodes=(<Node id=-1 labels={'Article'} properties={'indexes': ['title,abstract'], 'name': 'Article', 'constraints': ['CONSTRAINT ON ( article:Article ) ASSERT article.index IS UNIQUE']}>, <Node id=-1 labels={'Article'} properties={'indexes': ['title,abstract'], 'name': 'Article', 'constraints': ['CONSTRAINT ON ( article:Article ) ASSERT article.index IS UNIQUE']}>) type='CITED' properties={}>]\n"
     ]
    }
   ],
   "source": [
    "with driver.session() as session:\n",
    "    result = session.run(\"CALL db.schema()\")\n",
    "    for row in result:\n",
    "        print(f\"nodes: {row['nodes']}\")\n",
    "        print(f\"relationships: {row['relationships']}\")"
   ]
  },
  {
   "cell_type": "markdown",
   "metadata": {},
   "source": [
    "If we run `CALL db.schema()` in the Neo4j Browser (http://localhost:7474/browser/), we'll see the following visualisation:\n",
    "\n",
    "<img src=\"images/data-science-training.png\" alt=\"Graph Data Model\"/>\n"
   ]
  },
  {
   "cell_type": "markdown",
   "metadata": {},
   "source": [
    "Let's drill down a bit. How many nodes do we have for each of these labels?"
   ]
  },
  {
   "cell_type": "code",
   "execution_count": 4,
   "metadata": {},
   "outputs": [
    {
     "data": {
      "text/html": [
       "<div>\n",
       "<style scoped>\n",
       "    .dataframe tbody tr th:only-of-type {\n",
       "        vertical-align: middle;\n",
       "    }\n",
       "\n",
       "    .dataframe tbody tr th {\n",
       "        vertical-align: top;\n",
       "    }\n",
       "\n",
       "    .dataframe thead th {\n",
       "        text-align: right;\n",
       "    }\n",
       "</style>\n",
       "<table border=\"1\" class=\"dataframe\">\n",
       "  <thead>\n",
       "    <tr style=\"text-align: right;\">\n",
       "      <th></th>\n",
       "      <th>label</th>\n",
       "      <th>count</th>\n",
       "    </tr>\n",
       "  </thead>\n",
       "  <tbody>\n",
       "    <tr>\n",
       "      <th>2</th>\n",
       "      <td>Venue</td>\n",
       "      <td>4</td>\n",
       "    </tr>\n",
       "    <tr>\n",
       "      <th>0</th>\n",
       "      <td>Article</td>\n",
       "      <td>51956</td>\n",
       "    </tr>\n",
       "    <tr>\n",
       "      <th>1</th>\n",
       "      <td>Author</td>\n",
       "      <td>80299</td>\n",
       "    </tr>\n",
       "  </tbody>\n",
       "</table>\n",
       "</div>"
      ],
      "text/plain": [
       "     label  count\n",
       "2    Venue      4\n",
       "0  Article  51956\n",
       "1   Author  80299"
      ]
     },
     "execution_count": 4,
     "metadata": {},
     "output_type": "execute_result"
    }
   ],
   "source": [
    "result = {\"label\": [], \"count\": []}\n",
    "with driver.session() as session:\n",
    "    for row in session.run(\"CALL db.labels()\"):\n",
    "        label = row[\"label\"]\n",
    "        query = f\"MATCH (:`{label}`) RETURN count(*) as count\"\n",
    "        count = session.run(query).single()[\"count\"]\n",
    "        result[\"label\"].append(label)\n",
    "        result[\"count\"].append(count)\n",
    "nodes_df = pd.DataFrame(data=result)\n",
    "nodes_df.sort_values(\"count\")"
   ]
  },
  {
   "cell_type": "markdown",
   "metadata": {},
   "source": [
    "We can visualize the counts using matplotlib with the following code:"
   ]
  },
  {
   "cell_type": "code",
   "execution_count": 5,
   "metadata": {},
   "outputs": [
    {
     "data": {
      "image/png": "[encoded data removed]",
      "text/plain": [
       "<Figure size 432x288 with 1 Axes>"
      ]
     },
     "metadata": {
      "needs_background": "light"
     },
     "output_type": "display_data"
    }
   ],
   "source": [
    "nodes_df.plot(kind='bar', x='label', y='count', legend=None, title=\"Node Cardinalities\")\n",
    "plt.yscale(\"log\")\n",
    "plt.xticks(rotation=45)\n",
    "plt.tight_layout()\n",
    "plt.show()"
   ]
  },
  {
   "cell_type": "markdown",
   "metadata": {},
   "source": [
    "And what types of relationships do we have?"
   ]
  },
  {
   "cell_type": "code",
   "execution_count": 8,
   "metadata": {},
   "outputs": [
    {
     "data": {
      "text/html": [
       "<div>\n",
       "<style scoped>\n",
       "    .dataframe tbody tr th:only-of-type {\n",
       "        vertical-align: middle;\n",
       "    }\n",
       "\n",
       "    .dataframe tbody tr th {\n",
       "        vertical-align: top;\n",
       "    }\n",
       "\n",
       "    .dataframe thead th {\n",
       "        text-align: right;\n",
       "    }\n",
       "</style>\n",
       "<table border=\"1\" class=\"dataframe\">\n",
       "  <thead>\n",
       "    <tr style=\"text-align: right;\">\n",
       "      <th></th>\n",
       "      <th>relType</th>\n",
       "      <th>count</th>\n",
       "    </tr>\n",
       "  </thead>\n",
       "  <tbody>\n",
       "    <tr>\n",
       "      <th>2</th>\n",
       "      <td>CITED</td>\n",
       "      <td>28706</td>\n",
       "    </tr>\n",
       "    <tr>\n",
       "      <th>0</th>\n",
       "      <td>VENUE</td>\n",
       "      <td>51956</td>\n",
       "    </tr>\n",
       "    <tr>\n",
       "      <th>1</th>\n",
       "      <td>AUTHOR</td>\n",
       "      <td>140575</td>\n",
       "    </tr>\n",
       "  </tbody>\n",
       "</table>\n",
       "</div>"
      ],
      "text/plain": [
       "  relType   count\n",
       "2   CITED   28706\n",
       "0   VENUE   51956\n",
       "1  AUTHOR  140575"
      ]
     },
     "execution_count": 8,
     "metadata": {},
     "output_type": "execute_result"
    }
   ],
   "source": [
    "result = {\"relType\": [], \"count\": []}\n",
    "with driver.session() as session:\n",
    "    for row in session.run(\"\"\"\n",
    "    CALL db.relationshipTypes()\n",
    "YIELD relationshipType\n",
    "WHERE not relationshipType starts with \"CO_AUTHOR\"\n",
    "RETURN relationshipType\n",
    "    \"\"\"):\n",
    "        relationship_type = row[\"relationshipType\"]\n",
    "        query = f\"MATCH ()-[:`{relationship_type}`]->() RETURN count(*) as count\"\n",
    "        count = session.run(query).single()[\"count\"]\n",
    "        result[\"relType\"].append(relationship_type)\n",
    "        result[\"count\"].append(count)\n",
    "rels_df = pd.DataFrame(data=result)\n",
    "rels_df.sort_values(\"count\")"
   ]
  },
  {
   "cell_type": "markdown",
   "metadata": {},
   "source": [
    "We can visualize the counts using matplotlib with the following code:"
   ]
  },
  {
   "cell_type": "code",
   "execution_count": 9,
   "metadata": {},
   "outputs": [
    {
     "data": {
      "image/png": "[encoded data removed]",
      "text/plain": [
       "<Figure size 432x288 with 1 Axes>"
      ]
     },
     "metadata": {
      "needs_background": "light"
     },
     "output_type": "display_data"
    }
   ],
   "source": [
    "rels_df.plot(kind='bar', x='relType', y='count', legend=None, title=\"Relationship Cardinalities\")\n",
    "plt.xticks(rotation=45)\n",
    "plt.tight_layout()\n",
    "plt.show()"
   ]
  },
  {
   "cell_type": "markdown",
   "metadata": {},
   "source": [
    "Now let's explore the citation data. The following query finds 25 authors, articles, venues, and also shows the number of articles that article has cited, as well as the number of articles that it's been cited by."
   ]
  },
  {
   "cell_type": "code",
   "execution_count": 17,
   "metadata": {},
   "outputs": [
    {
     "data": {
      "text/html": [
       "<div>\n",
       "<style scoped>\n",
       "    .dataframe tbody tr th:only-of-type {\n",
       "        vertical-align: middle;\n",
       "    }\n",
       "\n",
       "    .dataframe tbody tr th {\n",
       "        vertical-align: top;\n",
       "    }\n",
       "\n",
       "    .dataframe thead th {\n",
       "        text-align: right;\n",
       "    }\n",
       "</style>\n",
       "<table border=\"1\" class=\"dataframe\">\n",
       "  <thead>\n",
       "    <tr style=\"text-align: right;\">\n",
       "      <th></th>\n",
       "      <th>article</th>\n",
       "      <th>author</th>\n",
       "      <th>citationsGiven</th>\n",
       "      <th>citationsReceived</th>\n",
       "      <th>venue</th>\n",
       "    </tr>\n",
       "  </thead>\n",
       "  <tbody>\n",
       "    <tr>\n",
       "      <th>0</th>\n",
       "      <td>Performance debugging in the large via mining ...</td>\n",
       "      <td>Yingnong Dang</td>\n",
       "      <td>6</td>\n",
       "      <td>8</td>\n",
       "      <td>international conference on software engineering</td>\n",
       "    </tr>\n",
       "    <tr>\n",
       "      <th>1</th>\n",
       "      <td>2 nd SEMAT workshop on a general theory of sof...</td>\n",
       "      <td>Paul Ralph</td>\n",
       "      <td>1</td>\n",
       "      <td>1</td>\n",
       "      <td>international conference on software engineering</td>\n",
       "    </tr>\n",
       "    <tr>\n",
       "      <th>2</th>\n",
       "      <td>LaSSIE: a knowledge-based software information...</td>\n",
       "      <td>Bruce W. Ballard</td>\n",
       "      <td>4</td>\n",
       "      <td>15</td>\n",
       "      <td>Communications of The ACM</td>\n",
       "    </tr>\n",
       "    <tr>\n",
       "      <th>3</th>\n",
       "      <td>Evaluation of safety-critical software</td>\n",
       "      <td>S.-P. Kwan</td>\n",
       "      <td>1</td>\n",
       "      <td>8</td>\n",
       "      <td>Communications of The ACM</td>\n",
       "    </tr>\n",
       "    <tr>\n",
       "      <th>4</th>\n",
       "      <td>Detecting memory leaks through introspective d...</td>\n",
       "      <td>Santosh Pande</td>\n",
       "      <td>3</td>\n",
       "      <td>1</td>\n",
       "      <td>international conference on software engineering</td>\n",
       "    </tr>\n",
       "    <tr>\n",
       "      <th>5</th>\n",
       "      <td>An Abductive Logic Programming Architecture fo...</td>\n",
       "      <td>Francesca Toni</td>\n",
       "      <td>3</td>\n",
       "      <td>7</td>\n",
       "      <td>Lecture Notes in Computer Science</td>\n",
       "    </tr>\n",
       "    <tr>\n",
       "      <th>6</th>\n",
       "      <td>Secure communications in ATM networks</td>\n",
       "      <td>Nathan Hillery</td>\n",
       "      <td>1</td>\n",
       "      <td>1</td>\n",
       "      <td>Communications of The ACM</td>\n",
       "    </tr>\n",
       "    <tr>\n",
       "      <th>7</th>\n",
       "      <td>Employment and salaries of recent doctorates i...</td>\n",
       "      <td>Catherine Gaddy</td>\n",
       "      <td>2</td>\n",
       "      <td>1</td>\n",
       "      <td>Communications of The ACM</td>\n",
       "    </tr>\n",
       "    <tr>\n",
       "      <th>8</th>\n",
       "      <td>WhoseFault: automatic developer-to-fault assig...</td>\n",
       "      <td>Francisco Servant</td>\n",
       "      <td>6</td>\n",
       "      <td>1</td>\n",
       "      <td>international conference on software engineering</td>\n",
       "    </tr>\n",
       "    <tr>\n",
       "      <th>9</th>\n",
       "      <td>The Inconsistency in Rough Set Based Rule Gene...</td>\n",
       "      <td>Guoyin Wang</td>\n",
       "      <td>1</td>\n",
       "      <td>2</td>\n",
       "      <td>Lecture Notes in Computer Science</td>\n",
       "    </tr>\n",
       "    <tr>\n",
       "      <th>10</th>\n",
       "      <td>Relations between Customer Requirements, Perfo...</td>\n",
       "      <td>Ioannis Iglezakis</td>\n",
       "      <td>1</td>\n",
       "      <td>1</td>\n",
       "      <td>Lecture Notes in Computer Science</td>\n",
       "    </tr>\n",
       "    <tr>\n",
       "      <th>11</th>\n",
       "      <td>Object-oriented specification of reactive systems</td>\n",
       "      <td>Kari Systä</td>\n",
       "      <td>2</td>\n",
       "      <td>3</td>\n",
       "      <td>international conference on software engineering</td>\n",
       "    </tr>\n",
       "    <tr>\n",
       "      <th>12</th>\n",
       "      <td>Thoth, a portable real-time operating system</td>\n",
       "      <td>Michael Malcolm</td>\n",
       "      <td>1</td>\n",
       "      <td>1</td>\n",
       "      <td>Communications of The ACM</td>\n",
       "    </tr>\n",
       "    <tr>\n",
       "      <th>13</th>\n",
       "      <td>CASE productivity perceptions of software engi...</td>\n",
       "      <td>Ronald J. Norman</td>\n",
       "      <td>2</td>\n",
       "      <td>3</td>\n",
       "      <td>Communications of The ACM</td>\n",
       "    </tr>\n",
       "    <tr>\n",
       "      <th>14</th>\n",
       "      <td>A system for program refinement</td>\n",
       "      <td>Judy A. Townley</td>\n",
       "      <td>5</td>\n",
       "      <td>1</td>\n",
       "      <td>international conference on software engineering</td>\n",
       "    </tr>\n",
       "    <tr>\n",
       "      <th>15</th>\n",
       "      <td>Hunting for smells in natural language tests</td>\n",
       "      <td>Rudolf Vaas</td>\n",
       "      <td>4</td>\n",
       "      <td>1</td>\n",
       "      <td>international conference on software engineering</td>\n",
       "    </tr>\n",
       "    <tr>\n",
       "      <th>16</th>\n",
       "      <td>The other side of language</td>\n",
       "      <td>Peter J. Denning</td>\n",
       "      <td>1</td>\n",
       "      <td>1</td>\n",
       "      <td>Communications of The ACM</td>\n",
       "    </tr>\n",
       "    <tr>\n",
       "      <th>17</th>\n",
       "      <td>Semantic web services discovery in multi-ontol...</td>\n",
       "      <td>Sasiporn Usanavasin</td>\n",
       "      <td>1</td>\n",
       "      <td>1</td>\n",
       "      <td>Lecture Notes in Computer Science</td>\n",
       "    </tr>\n",
       "    <tr>\n",
       "      <th>18</th>\n",
       "      <td>Defining a Quality Model for Mail Servers</td>\n",
       "      <td>Juan Pablo Carvallo</td>\n",
       "      <td>2</td>\n",
       "      <td>1</td>\n",
       "      <td>Lecture Notes in Computer Science</td>\n",
       "    </tr>\n",
       "    <tr>\n",
       "      <th>19</th>\n",
       "      <td>An improved program-synthesizing algorithm and...</td>\n",
       "      <td>Chin-Liang Chang</td>\n",
       "      <td>1</td>\n",
       "      <td>1</td>\n",
       "      <td>Communications of The ACM</td>\n",
       "    </tr>\n",
       "    <tr>\n",
       "      <th>20</th>\n",
       "      <td>Behaviour Model Synthesis from Properties and ...</td>\n",
       "      <td>Sebastian Uchitel</td>\n",
       "      <td>1</td>\n",
       "      <td>3</td>\n",
       "      <td>international conference on software engineering</td>\n",
       "    </tr>\n",
       "    <tr>\n",
       "      <th>21</th>\n",
       "      <td>Efficient and change-resilient test automation...</td>\n",
       "      <td>Pranavadatta Devaki</td>\n",
       "      <td>3</td>\n",
       "      <td>2</td>\n",
       "      <td>international conference on software engineering</td>\n",
       "    </tr>\n",
       "    <tr>\n",
       "      <th>22</th>\n",
       "      <td>A Geometric Functional for Derivatives Approxi...</td>\n",
       "      <td>Yehoshua Y. Zeevi</td>\n",
       "      <td>1</td>\n",
       "      <td>2</td>\n",
       "      <td>Lecture Notes in Computer Science</td>\n",
       "    </tr>\n",
       "    <tr>\n",
       "      <th>23</th>\n",
       "      <td>Translating Role-Based Access Control Policy w...</td>\n",
       "      <td>Ken Moody</td>\n",
       "      <td>1</td>\n",
       "      <td>3</td>\n",
       "      <td>Lecture Notes in Computer Science</td>\n",
       "    </tr>\n",
       "    <tr>\n",
       "      <th>24</th>\n",
       "      <td>Unifying FSM-inference algorithms through decl...</td>\n",
       "      <td>Jenny Abrahamson</td>\n",
       "      <td>6</td>\n",
       "      <td>4</td>\n",
       "      <td>international conference on software engineering</td>\n",
       "    </tr>\n",
       "  </tbody>\n",
       "</table>\n",
       "</div>"
      ],
      "text/plain": [
       "                                              article               author  \\\n",
       "0   Performance debugging in the large via mining ...        Yingnong Dang   \n",
       "1   2 nd SEMAT workshop on a general theory of sof...           Paul Ralph   \n",
       "2   LaSSIE: a knowledge-based software information...     Bruce W. Ballard   \n",
       "3              Evaluation of safety-critical software           S.-P. Kwan   \n",
       "4   Detecting memory leaks through introspective d...        Santosh Pande   \n",
       "5   An Abductive Logic Programming Architecture fo...       Francesca Toni   \n",
       "6               Secure communications in ATM networks       Nathan Hillery   \n",
       "7   Employment and salaries of recent doctorates i...      Catherine Gaddy   \n",
       "8   WhoseFault: automatic developer-to-fault assig...    Francisco Servant   \n",
       "9   The Inconsistency in Rough Set Based Rule Gene...          Guoyin Wang   \n",
       "10  Relations between Customer Requirements, Perfo...    Ioannis Iglezakis   \n",
       "11  Object-oriented specification of reactive systems           Kari Systä   \n",
       "12       Thoth, a portable real-time operating system      Michael Malcolm   \n",
       "13  CASE productivity perceptions of software engi...     Ronald J. Norman   \n",
       "14                    A system for program refinement      Judy A. Townley   \n",
       "15       Hunting for smells in natural language tests          Rudolf Vaas   \n",
       "16                         The other side of language     Peter J. Denning   \n",
       "17  Semantic web services discovery in multi-ontol...  Sasiporn Usanavasin   \n",
       "18          Defining a Quality Model for Mail Servers  Juan Pablo Carvallo   \n",
       "19  An improved program-synthesizing algorithm and...     Chin-Liang Chang   \n",
       "20  Behaviour Model Synthesis from Properties and ...    Sebastian Uchitel   \n",
       "21  Efficient and change-resilient test automation...  Pranavadatta Devaki   \n",
       "22  A Geometric Functional for Derivatives Approxi...    Yehoshua Y. Zeevi   \n",
       "23  Translating Role-Based Access Control Policy w...            Ken Moody   \n",
       "24  Unifying FSM-inference algorithms through decl...     Jenny Abrahamson   \n",
       "\n",
       "    citationsGiven  citationsReceived  \\\n",
       "0                6                  8   \n",
       "1                1                  1   \n",
       "2                4                 15   \n",
       "3                1                  8   \n",
       "4                3                  1   \n",
       "5                3                  7   \n",
       "6                1                  1   \n",
       "7                2                  1   \n",
       "8                6                  1   \n",
       "9                1                  2   \n",
       "10               1                  1   \n",
       "11               2                  3   \n",
       "12               1                  1   \n",
       "13               2                  3   \n",
       "14               5                  1   \n",
       "15               4                  1   \n",
       "16               1                  1   \n",
       "17               1                  1   \n",
       "18               2                  1   \n",
       "19               1                  1   \n",
       "20               1                  3   \n",
       "21               3                  2   \n",
       "22               1                  2   \n",
       "23               1                  3   \n",
       "24               6                  4   \n",
       "\n",
       "                                               venue  \n",
       "0   international conference on software engineering  \n",
       "1   international conference on software engineering  \n",
       "2                          Communications of The ACM  \n",
       "3                          Communications of The ACM  \n",
       "4   international conference on software engineering  \n",
       "5                  Lecture Notes in Computer Science  \n",
       "6                          Communications of The ACM  \n",
       "7                          Communications of The ACM  \n",
       "8   international conference on software engineering  \n",
       "9                  Lecture Notes in Computer Science  \n",
       "10                 Lecture Notes in Computer Science  \n",
       "11  international conference on software engineering  \n",
       "12                         Communications of The ACM  \n",
       "13                         Communications of The ACM  \n",
       "14  international conference on software engineering  \n",
       "15  international conference on software engineering  \n",
       "16                         Communications of The ACM  \n",
       "17                 Lecture Notes in Computer Science  \n",
       "18                 Lecture Notes in Computer Science  \n",
       "19                         Communications of The ACM  \n",
       "20  international conference on software engineering  \n",
       "21  international conference on software engineering  \n",
       "22                 Lecture Notes in Computer Science  \n",
       "23                 Lecture Notes in Computer Science  \n",
       "24  international conference on software engineering  "
      ]
     },
     "execution_count": 17,
     "metadata": {},
     "output_type": "execute_result"
    }
   ],
   "source": [
    "exploratory_query = \"\"\"\n",
    "MATCH (author:Author)<-[:AUTHOR]-(article:Article)-[:VENUE]->(venue)\n",
    "WITH article.title AS article, author.name AS author, venue.name AS venue, \n",
    "       size((article)-[:CITED]->()) AS citationsGiven, size((article)<-[:CITED]-()) AS citationsReceived\n",
    "WHERE citationsGiven > 0 AND citationsReceived > 0\n",
    "RETURN article, author, citationsGiven, citationsReceived,venue\n",
    "ORDER BY rand()\n",
    "LIMIT 25\n",
    "\"\"\"\n",
    "\n",
    "with driver.session() as session:\n",
    "    result = session.run(exploratory_query)\n",
    "\n",
    "# dict(result.single())    \n",
    "    \n",
    "pd.DataFrame([dict(record) for record in result])"
   ]
  },
  {
   "cell_type": "markdown",
   "metadata": {},
   "source": [
    "Let's look into the citation data more closely. We'll write a query that returns the number of citations that each article has, and then create a distribution of those counts using pandas `describe` function:"
   ]
  },
  {
   "cell_type": "code",
   "execution_count": 18,
   "metadata": {},
   "outputs": [
    {
     "data": {
      "text/html": [
       "<div>\n",
       "<style scoped>\n",
       "    .dataframe tbody tr th:only-of-type {\n",
       "        vertical-align: middle;\n",
       "    }\n",
       "\n",
       "    .dataframe tbody tr th {\n",
       "        vertical-align: top;\n",
       "    }\n",
       "\n",
       "    .dataframe thead th {\n",
       "        text-align: right;\n",
       "    }\n",
       "</style>\n",
       "<table border=\"1\" class=\"dataframe\">\n",
       "  <thead>\n",
       "    <tr style=\"text-align: right;\">\n",
       "      <th></th>\n",
       "      <th>citations</th>\n",
       "    </tr>\n",
       "  </thead>\n",
       "  <tbody>\n",
       "    <tr>\n",
       "      <th>count</th>\n",
       "      <td>51956.000</td>\n",
       "    </tr>\n",
       "    <tr>\n",
       "      <th>mean</th>\n",
       "      <td>0.553</td>\n",
       "    </tr>\n",
       "    <tr>\n",
       "      <th>std</th>\n",
       "      <td>2.418</td>\n",
       "    </tr>\n",
       "    <tr>\n",
       "      <th>min</th>\n",
       "      <td>0.000</td>\n",
       "    </tr>\n",
       "    <tr>\n",
       "      <th>25%</th>\n",
       "      <td>0.000</td>\n",
       "    </tr>\n",
       "    <tr>\n",
       "      <th>50%</th>\n",
       "      <td>0.000</td>\n",
       "    </tr>\n",
       "    <tr>\n",
       "      <th>75%</th>\n",
       "      <td>0.000</td>\n",
       "    </tr>\n",
       "    <tr>\n",
       "      <th>90%</th>\n",
       "      <td>1.000</td>\n",
       "    </tr>\n",
       "    <tr>\n",
       "      <th>99%</th>\n",
       "      <td>8.000</td>\n",
       "    </tr>\n",
       "    <tr>\n",
       "      <th>max</th>\n",
       "      <td>211.000</td>\n",
       "    </tr>\n",
       "  </tbody>\n",
       "</table>\n",
       "</div>"
      ],
      "text/plain": [
       "       citations\n",
       "count  51956.000\n",
       "mean       0.553\n",
       "std        2.418\n",
       "min        0.000\n",
       "25%        0.000\n",
       "50%        0.000\n",
       "75%        0.000\n",
       "90%        1.000\n",
       "99%        8.000\n",
       "max      211.000"
      ]
     },
     "execution_count": 18,
     "metadata": {},
     "output_type": "execute_result"
    }
   ],
   "source": [
    "query = \"\"\"\n",
    "MATCH (a:Article)\n",
    "RETURN size((a)<-[:CITED]-()) AS citations\n",
    "\"\"\"\n",
    "\n",
    "with driver.session() as session:\n",
    "    result = session.run(query)\n",
    "\n",
    "citation_df = pd.DataFrame([dict(record) for record in result])\n",
    "citation_df.describe([.25, .5, .75, .9, .99])"
   ]
  },
  {
   "cell_type": "markdown",
   "metadata": {},
   "source": [
    "Most articles are being cited very few times. 99% of articles have 1 citation or less. We do, however, have one article that's been cited more than 200 times. We'll use a log scale histogram to visualise the data;"
   ]
  },
  {
   "cell_type": "code",
   "execution_count": 21,
   "metadata": {},
   "outputs": [
    {
     "ename": "AttributeError",
     "evalue": "module 'matplotlib.pyplot' has no attribute 'set_xscale'",
     "output_type": "error",
     "traceback": [
      "\u001b[0;31m---------------------------------------------------------------------------\u001b[0m",
      "\u001b[0;31mAttributeError\u001b[0m                            Traceback (most recent call last)",
      "\u001b[0;32m<ipython-input-21-ff037d600e84>\u001b[0m in \u001b[0;36m<module>\u001b[0;34m\u001b[0m\n\u001b[1;32m      1\u001b[0m \u001b[0mplt\u001b[0m\u001b[0;34m.\u001b[0m\u001b[0mhist\u001b[0m\u001b[0;34m(\u001b[0m\u001b[0mpd\u001b[0m\u001b[0;34m.\u001b[0m\u001b[0mSeries\u001b[0m\u001b[0;34m(\u001b[0m\u001b[0mcitation_df\u001b[0m\u001b[0;34m[\u001b[0m\u001b[0;34m'citations'\u001b[0m\u001b[0;34m]\u001b[0m\u001b[0;34m.\u001b[0m\u001b[0mdropna\u001b[0m\u001b[0;34m(\u001b[0m\u001b[0;34m)\u001b[0m\u001b[0;34m)\u001b[0m\u001b[0;34m,\u001b[0m \u001b[0;36m1250\u001b[0m\u001b[0;34m,\u001b[0m \u001b[0mdensity\u001b[0m\u001b[0;34m=\u001b[0m\u001b[0;32mTrue\u001b[0m\u001b[0;34m,\u001b[0m \u001b[0mfacecolor\u001b[0m\u001b[0;34m=\u001b[0m\u001b[0;34m'g'\u001b[0m\u001b[0;34m,\u001b[0m \u001b[0malpha\u001b[0m\u001b[0;34m=\u001b[0m\u001b[0;36m0.75\u001b[0m\u001b[0;34m)\u001b[0m\u001b[0;34m\u001b[0m\u001b[0;34m\u001b[0m\u001b[0m\n\u001b[0;32m----> 2\u001b[0;31m \u001b[0mplt\u001b[0m\u001b[0;34m.\u001b[0m\u001b[0mset_xscale\u001b[0m\u001b[0;34m(\u001b[0m\u001b[0;34m\"log\"\u001b[0m\u001b[0;34m)\u001b[0m\u001b[0;34m\u001b[0m\u001b[0;34m\u001b[0m\u001b[0m\n\u001b[0m\u001b[1;32m      3\u001b[0m \u001b[0mplt\u001b[0m\u001b[0;34m.\u001b[0m\u001b[0mtight_layout\u001b[0m\u001b[0;34m(\u001b[0m\u001b[0;34m)\u001b[0m\u001b[0;34m\u001b[0m\u001b[0;34m\u001b[0m\u001b[0m\n\u001b[1;32m      4\u001b[0m \u001b[0mplt\u001b[0m\u001b[0;34m.\u001b[0m\u001b[0mshow\u001b[0m\u001b[0;34m(\u001b[0m\u001b[0;34m)\u001b[0m\u001b[0;34m\u001b[0m\u001b[0;34m\u001b[0m\u001b[0m\n",
      "\u001b[0;31mAttributeError\u001b[0m: module 'matplotlib.pyplot' has no attribute 'set_xscale'"
     ]
    },
    {
     "data": {
      "image/png": "[encoded data removed]",
      "text/plain": [
       "<Figure size 432x288 with 1 Axes>"
      ]
     },
     "metadata": {
      "needs_background": "light"
     },
     "output_type": "display_data"
    }
   ],
   "source": [
    "ax1.hist(pd.Series(citation_df['citations'].dropna()), 1250, density=True, facecolor='g', alpha=0.75)\n",
    "ax1.set_xscale(\"log\")\n",
    "plt.tight_layout()\n",
    "plt.show()"
   ]
  },
  {
   "cell_type": "markdown",
   "metadata": {},
   "source": [
    "## Exercise\n",
    "\n",
    "* Can you create a similar chart showing the articles that cite the most other papers? Note that you'll only need to do a slight tweak of the Cypher query to do this. \n",
    "* What about a distribution of the number of articles published by authors?\n",
    "\n",
    "Keep the results of these exercises handy as they form part of the Check your understanding quiz at the end of this module."
   ]
  }
 ],
 "metadata": {
  "kernelspec": {
   "display_name": "Python 3",
   "language": "python",
   "name": "python3"
  },
  "language_info": {
   "codemirror_mode": {
    "name": "ipython",
    "version": 3
   },
   "file_extension": ".py",
   "mimetype": "text/x-python",
   "name": "python",
   "nbconvert_exporter": "python",
   "pygments_lexer": "ipython3",
   "version": "3.7.3"
  }
 },
 "nbformat": 4,
 "nbformat_minor": 2
}
