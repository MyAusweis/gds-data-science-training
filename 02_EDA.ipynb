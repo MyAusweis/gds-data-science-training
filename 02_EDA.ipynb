{
 "cells": [
  {
   "cell_type": "markdown",
   "metadata": {
    "colab_type": "text",
    "id": "view-in-github"
   },
   "source": [
    "<a href=\"https://colab.research.google.com/github/mneedham/data-science-training/blob/master/02_EDA.ipynb\" target=\"_parent\"><img src=\"https://colab.research.google.com/assets/colab-badge.svg\" alt=\"Open In Colab\"/></a>"
   ]
  },
  {
   "cell_type": "markdown",
   "metadata": {},
   "source": [
    "# Exploratory Data Analysis\n",
    "\n",
    "In this notebook we're going to explore the citation dataset. We should already have installed py2neo, pandas, and matplotlib when setting up our environment, so let's get those imported:"
   ]
  },
  {
   "cell_type": "code",
   "execution_count": 1,
   "metadata": {},
   "outputs": [],
   "source": [
    "from neo4j import GraphDatabase\n",
    "import pandas as pd\n",
    "\n",
    "import matplotlib \n",
    "import matplotlib.pyplot as plt\n",
    "\n",
    "plt.style.use('fivethirtyeight')\n",
    "pd.set_option('display.float_format', lambda x: '%.3f' % x)"
   ]
  },
  {
   "cell_type": "code",
   "execution_count": 2,
   "metadata": {},
   "outputs": [
    {
     "name": "stdout",
     "output_type": "stream",
     "text": [
      "data-science-training-neo4j:7687\n"
     ]
    }
   ],
   "source": [
    "driver = GraphDatabase.driver(\"bolt://data-science-training-neo4j\", auth=(\"neo4j\", \"admin\"))        \n",
    "print(driver.address)"
   ]
  },
  {
   "cell_type": "markdown",
   "metadata": {},
   "source": [
    "## What's in our database?\n",
    "\n",
    "Now we can run the following query to check how many nodes our database contains:"
   ]
  },
  {
   "cell_type": "code",
   "execution_count": 7,
   "metadata": {
    "scrolled": true
   },
   "outputs": [
    {
     "name": "stdout",
     "output_type": "stream",
     "text": [
      "<Node id=-6 labels=frozenset({'Venue'}) properties={'indexes': [], 'name': 'Venue', 'constraints': ['CONSTRAINT ON ( venue:Venue ) ASSERT (venue.name) IS UNIQUE']}>\n",
      "<Node id=-4 labels=frozenset({'Article'}) properties={'indexes': [], 'name': 'Article', 'constraints': ['CONSTRAINT ON ( article:Article ) ASSERT (article.index) IS UNIQUE']}>\n",
      "<Node id=-5 labels=frozenset({'Author'}) properties={'indexes': [], 'name': 'Author', 'constraints': ['CONSTRAINT ON ( author:Author ) ASSERT (author.name) IS UNIQUE']}>\n",
      "relationships: [<Relationship id=-4 nodes=(<Node id=-4 labels=frozenset({'Article'}) properties={'indexes': [], 'name': 'Article', 'constraints': ['CONSTRAINT ON ( article:Article ) ASSERT (article.index) IS UNIQUE']}>, <Node id=-6 labels=frozenset({'Venue'}) properties={'indexes': [], 'name': 'Venue', 'constraints': ['CONSTRAINT ON ( venue:Venue ) ASSERT (venue.name) IS UNIQUE']}>) type='VENUE' properties={}>, <Relationship id=-5 nodes=(<Node id=-4 labels=frozenset({'Article'}) properties={'indexes': [], 'name': 'Article', 'constraints': ['CONSTRAINT ON ( article:Article ) ASSERT (article.index) IS UNIQUE']}>, <Node id=-5 labels=frozenset({'Author'}) properties={'indexes': [], 'name': 'Author', 'constraints': ['CONSTRAINT ON ( author:Author ) ASSERT (author.name) IS UNIQUE']}>) type='AUTHOR' properties={}>, <Relationship id=-6 nodes=(<Node id=-4 labels=frozenset({'Article'}) properties={'indexes': [], 'name': 'Article', 'constraints': ['CONSTRAINT ON ( article:Article ) ASSERT (article.index) IS UNIQUE']}>, <Node id=-4 labels=frozenset({'Article'}) properties={'indexes': [], 'name': 'Article', 'constraints': ['CONSTRAINT ON ( article:Article ) ASSERT (article.index) IS UNIQUE']}>) type='CITED' properties={}>]\n"
     ]
    }
   ],
   "source": [
    "with driver.session(database=\"neo4j\") as session:\n",
    "    result = session.run(\"CALL db.schema.visualization()\")\n",
    "    for row in result:\n",
    "        for node in row['nodes']:\n",
    "            print(node)\n",
    "        \n",
    "        \n",
    "        print(f\"relationships: {row['relationships']}\")"
   ]
  },
  {
   "cell_type": "markdown",
   "metadata": {},
   "source": [
    "If we run `CALL db.schema()` in the Neo4j Browser (http://localhost:7474/browser/), we'll see the following visualisation:\n",
    "\n",
    "<img src=\"images/data-science-training.png\" alt=\"Graph Data Model\"/>\n"
   ]
  },
  {
   "cell_type": "markdown",
   "metadata": {},
   "source": [
    "Let's drill down a bit. How many nodes do we have for each of these labels?"
   ]
  },
  {
   "cell_type": "code",
   "execution_count": 8,
   "metadata": {},
   "outputs": [
    {
     "data": {
      "text/html": [
       "<div>\n",
       "<style scoped>\n",
       "    .dataframe tbody tr th:only-of-type {\n",
       "        vertical-align: middle;\n",
       "    }\n",
       "\n",
       "    .dataframe tbody tr th {\n",
       "        vertical-align: top;\n",
       "    }\n",
       "\n",
       "    .dataframe thead th {\n",
       "        text-align: right;\n",
       "    }\n",
       "</style>\n",
       "<table border=\"1\" class=\"dataframe\">\n",
       "  <thead>\n",
       "    <tr style=\"text-align: right;\">\n",
       "      <th></th>\n",
       "      <th>label</th>\n",
       "      <th>count</th>\n",
       "    </tr>\n",
       "  </thead>\n",
       "  <tbody>\n",
       "    <tr>\n",
       "      <th>2</th>\n",
       "      <td>Venue</td>\n",
       "      <td>4</td>\n",
       "    </tr>\n",
       "    <tr>\n",
       "      <th>0</th>\n",
       "      <td>Article</td>\n",
       "      <td>51956</td>\n",
       "    </tr>\n",
       "    <tr>\n",
       "      <th>1</th>\n",
       "      <td>Author</td>\n",
       "      <td>80299</td>\n",
       "    </tr>\n",
       "  </tbody>\n",
       "</table>\n",
       "</div>"
      ],
      "text/plain": [
       "     label  count\n",
       "2    Venue      4\n",
       "0  Article  51956\n",
       "1   Author  80299"
      ]
     },
     "execution_count": 8,
     "metadata": {},
     "output_type": "execute_result"
    }
   ],
   "source": [
    "result = {\"label\": [], \"count\": []}\n",
    "with driver.session(database=\"neo4j\") as session:\n",
    "    for row in session.run(\"CALL db.labels()\"):\n",
    "        label = row[\"label\"]\n",
    "        query = f\"MATCH (:`{label}`) RETURN count(*) as count\"\n",
    "        count = session.run(query).single()[\"count\"]\n",
    "        result[\"label\"].append(label)\n",
    "        result[\"count\"].append(count)\n",
    "nodes_df = pd.DataFrame(data=result)\n",
    "nodes_df.sort_values(\"count\")"
   ]
  },
  {
   "cell_type": "markdown",
   "metadata": {},
   "source": [
    "We can visualize the counts using matplotlib with the following code:"
   ]
  },
  {
   "cell_type": "code",
   "execution_count": 9,
   "metadata": {},
   "outputs": [
    {
     "data": {
      "image/png": "[encoded data removed]",
      "text/plain": [
       "<Figure size 432x288 with 1 Axes>"
      ]
     },
     "metadata": {},
     "output_type": "display_data"
    }
   ],
   "source": [
    "nodes_df.plot(kind='bar', x='label', y='count', legend=None, title=\"Node Cardinalities\")\n",
    "plt.yscale(\"log\")\n",
    "plt.xticks(rotation=45)\n",
    "plt.tight_layout()\n",
    "plt.show()"
   ]
  },
  {
   "cell_type": "markdown",
   "metadata": {},
   "source": [
    "And what types of relationships do we have?"
   ]
  },
  {
   "cell_type": "code",
   "execution_count": 10,
   "metadata": {},
   "outputs": [
    {
     "data": {
      "text/html": [
       "<div>\n",
       "<style scoped>\n",
       "    .dataframe tbody tr th:only-of-type {\n",
       "        vertical-align: middle;\n",
       "    }\n",
       "\n",
       "    .dataframe tbody tr th {\n",
       "        vertical-align: top;\n",
       "    }\n",
       "\n",
       "    .dataframe thead th {\n",
       "        text-align: right;\n",
       "    }\n",
       "</style>\n",
       "<table border=\"1\" class=\"dataframe\">\n",
       "  <thead>\n",
       "    <tr style=\"text-align: right;\">\n",
       "      <th></th>\n",
       "      <th>relType</th>\n",
       "      <th>count</th>\n",
       "    </tr>\n",
       "  </thead>\n",
       "  <tbody>\n",
       "    <tr>\n",
       "      <th>2</th>\n",
       "      <td>CITED</td>\n",
       "      <td>28706</td>\n",
       "    </tr>\n",
       "    <tr>\n",
       "      <th>0</th>\n",
       "      <td>VENUE</td>\n",
       "      <td>51956</td>\n",
       "    </tr>\n",
       "    <tr>\n",
       "      <th>1</th>\n",
       "      <td>AUTHOR</td>\n",
       "      <td>140575</td>\n",
       "    </tr>\n",
       "  </tbody>\n",
       "</table>\n",
       "</div>"
      ],
      "text/plain": [
       "  relType   count\n",
       "2   CITED   28706\n",
       "0   VENUE   51956\n",
       "1  AUTHOR  140575"
      ]
     },
     "execution_count": 10,
     "metadata": {},
     "output_type": "execute_result"
    }
   ],
   "source": [
    "result = {\"relType\": [], \"count\": []}\n",
    "with driver.session(database=\"neo4j\") as session:\n",
    "    for row in session.run(\"\"\"\n",
    "    CALL db.relationshipTypes()\n",
    "YIELD relationshipType\n",
    "WHERE not relationshipType starts with \"CO_AUTHOR\"\n",
    "RETURN relationshipType\n",
    "    \"\"\"):\n",
    "        relationship_type = row[\"relationshipType\"]\n",
    "        query = f\"MATCH ()-[:`{relationship_type}`]->() RETURN count(*) as count\"\n",
    "        count = session.run(query).single()[\"count\"]\n",
    "        result[\"relType\"].append(relationship_type)\n",
    "        result[\"count\"].append(count)\n",
    "rels_df = pd.DataFrame(data=result)\n",
    "rels_df.sort_values(\"count\")"
   ]
  },
  {
   "cell_type": "markdown",
   "metadata": {},
   "source": [
    "We can visualize the counts using matplotlib with the following code:"
   ]
  },
  {
   "cell_type": "code",
   "execution_count": 11,
   "metadata": {},
   "outputs": [
    {
     "data": {
      "image/png": "[encoded data removed]",
      "text/plain": [
       "<Figure size 432x288 with 1 Axes>"
      ]
     },
     "metadata": {},
     "output_type": "display_data"
    }
   ],
   "source": [
    "rels_df.plot(kind='bar', x='relType', y='count', legend=None, title=\"Relationship Cardinalities\")\n",
    "plt.xticks(rotation=45)\n",
    "plt.tight_layout()\n",
    "plt.show()"
   ]
  },
  {
   "cell_type": "markdown",
   "metadata": {},
   "source": [
    "Now let's explore the citation data. The following query finds 25 authors, articles, venues, and also shows the number of articles that article has cited, as well as the number of articles that it's been cited by."
   ]
  },
  {
   "cell_type": "code",
   "execution_count": 31,
   "metadata": {},
   "outputs": [
    {
     "data": {
      "text/html": [
       "<div>\n",
       "<style scoped>\n",
       "    .dataframe tbody tr th:only-of-type {\n",
       "        vertical-align: middle;\n",
       "    }\n",
       "\n",
       "    .dataframe tbody tr th {\n",
       "        vertical-align: top;\n",
       "    }\n",
       "\n",
       "    .dataframe thead th {\n",
       "        text-align: right;\n",
       "    }\n",
       "</style>\n",
       "<table border=\"1\" class=\"dataframe\">\n",
       "  <thead>\n",
       "    <tr style=\"text-align: right;\">\n",
       "      <th></th>\n",
       "      <th>article</th>\n",
       "      <th>author</th>\n",
       "      <th>citationsGiven</th>\n",
       "      <th>citationsReceived</th>\n",
       "      <th>venue</th>\n",
       "    </tr>\n",
       "  </thead>\n",
       "  <tbody>\n",
       "    <tr>\n",
       "      <th>0</th>\n",
       "      <td>Assessing model-based testing: an empirical st...</td>\n",
       "      <td>Mikael Lindvall</td>\n",
       "      <td>1</td>\n",
       "      <td>1</td>\n",
       "      <td>international conference on software engineering</td>\n",
       "    </tr>\n",
       "    <tr>\n",
       "      <th>1</th>\n",
       "      <td>Nonlinear Matrix Diffusion for Optic Flow Esti...</td>\n",
       "      <td>Thomas Brox</td>\n",
       "      <td>1</td>\n",
       "      <td>3</td>\n",
       "      <td>Lecture Notes in Computer Science</td>\n",
       "    </tr>\n",
       "    <tr>\n",
       "      <th>2</th>\n",
       "      <td>Finding circles by an array of accumulators</td>\n",
       "      <td>Carolyn Kimme</td>\n",
       "      <td>1</td>\n",
       "      <td>1</td>\n",
       "      <td>Communications of The ACM</td>\n",
       "    </tr>\n",
       "    <tr>\n",
       "      <th>3</th>\n",
       "      <td>Nonlinear inverse scale space methods for imag...</td>\n",
       "      <td>Jinjun Xu</td>\n",
       "      <td>1</td>\n",
       "      <td>1</td>\n",
       "      <td>Lecture Notes in Computer Science</td>\n",
       "    </tr>\n",
       "    <tr>\n",
       "      <th>4</th>\n",
       "      <td>Intrinsic Evolvable Hardware in Digital Filter...</td>\n",
       "      <td>Yang Zhang</td>\n",
       "      <td>1</td>\n",
       "      <td>1</td>\n",
       "      <td>Lecture Notes in Computer Science</td>\n",
       "    </tr>\n",
       "    <tr>\n",
       "      <th>5</th>\n",
       "      <td>A formal semantics for computer languages and ...</td>\n",
       "      <td>Jerome A. Feldman</td>\n",
       "      <td>3</td>\n",
       "      <td>10</td>\n",
       "      <td>Communications of The ACM</td>\n",
       "    </tr>\n",
       "    <tr>\n",
       "      <th>6</th>\n",
       "      <td>Test case management tools for accessibility t...</td>\n",
       "      <td>Christophe Strobbe</td>\n",
       "      <td>1</td>\n",
       "      <td>3</td>\n",
       "      <td>Lecture Notes in Computer Science</td>\n",
       "    </tr>\n",
       "    <tr>\n",
       "      <th>7</th>\n",
       "      <td>What can context do for web services</td>\n",
       "      <td>Zakaria Maamar</td>\n",
       "      <td>1</td>\n",
       "      <td>1</td>\n",
       "      <td>Communications of The ACM</td>\n",
       "    </tr>\n",
       "    <tr>\n",
       "      <th>8</th>\n",
       "      <td>ITTALKS: An Application of Agents in the Seman...</td>\n",
       "      <td>Anupam Joshi</td>\n",
       "      <td>1</td>\n",
       "      <td>1</td>\n",
       "      <td>Lecture Notes in Computer Science</td>\n",
       "    </tr>\n",
       "    <tr>\n",
       "      <th>9</th>\n",
       "      <td>Query languages supporting descriptive rule mi...</td>\n",
       "      <td>Cyrille Masson</td>\n",
       "      <td>2</td>\n",
       "      <td>1</td>\n",
       "      <td>Lecture Notes in Computer Science</td>\n",
       "    </tr>\n",
       "    <tr>\n",
       "      <th>10</th>\n",
       "      <td>Skoll: distributed continuous quality assurance</td>\n",
       "      <td>Douglas C. Schmidt</td>\n",
       "      <td>2</td>\n",
       "      <td>4</td>\n",
       "      <td>international conference on software engineering</td>\n",
       "    </tr>\n",
       "    <tr>\n",
       "      <th>11</th>\n",
       "      <td>InstantApps: A WYSIWYG model driven interprete...</td>\n",
       "      <td>Puneet Agarwal</td>\n",
       "      <td>1</td>\n",
       "      <td>1</td>\n",
       "      <td>international conference on software engineering</td>\n",
       "    </tr>\n",
       "    <tr>\n",
       "      <th>12</th>\n",
       "      <td>The V-Man Project: Toward Autonomous Virtual C...</td>\n",
       "      <td>Stéphane Sanchez</td>\n",
       "      <td>1</td>\n",
       "      <td>1</td>\n",
       "      <td>Lecture Notes in Computer Science</td>\n",
       "    </tr>\n",
       "    <tr>\n",
       "      <th>13</th>\n",
       "      <td>Lessons learned from a software process modeli...</td>\n",
       "      <td>Herb Krasner</td>\n",
       "      <td>4</td>\n",
       "      <td>1</td>\n",
       "      <td>Communications of The ACM</td>\n",
       "    </tr>\n",
       "    <tr>\n",
       "      <th>14</th>\n",
       "      <td>Model Generation with Existentially Quantified...</td>\n",
       "      <td>Slim Abdennadher</td>\n",
       "      <td>1</td>\n",
       "      <td>1</td>\n",
       "      <td>Lecture Notes in Computer Science</td>\n",
       "    </tr>\n",
       "    <tr>\n",
       "      <th>15</th>\n",
       "      <td>Can an identifiability-optimizing test protoco...</td>\n",
       "      <td>Hosam K. Fathy</td>\n",
       "      <td>1</td>\n",
       "      <td>1</td>\n",
       "      <td>advances in computing and communications</td>\n",
       "    </tr>\n",
       "    <tr>\n",
       "      <th>16</th>\n",
       "      <td>Frequency regulation from flexible loads: Pote...</td>\n",
       "      <td>He Hao</td>\n",
       "      <td>1</td>\n",
       "      <td>2</td>\n",
       "      <td>advances in computing and communications</td>\n",
       "    </tr>\n",
       "    <tr>\n",
       "      <th>17</th>\n",
       "      <td>Decision table programming and reliability</td>\n",
       "      <td>Doris Tamanaha</td>\n",
       "      <td>2</td>\n",
       "      <td>2</td>\n",
       "      <td>international conference on software engineering</td>\n",
       "    </tr>\n",
       "    <tr>\n",
       "      <th>18</th>\n",
       "      <td>A history-based test prioritization technique ...</td>\n",
       "      <td>Jung-Min Kim</td>\n",
       "      <td>1</td>\n",
       "      <td>12</td>\n",
       "      <td>international conference on software engineering</td>\n",
       "    </tr>\n",
       "    <tr>\n",
       "      <th>19</th>\n",
       "      <td>Real-time model predictive control for the opt...</td>\n",
       "      <td>Nicolas Wolff</td>\n",
       "      <td>1</td>\n",
       "      <td>1</td>\n",
       "      <td>advances in computing and communications</td>\n",
       "    </tr>\n",
       "    <tr>\n",
       "      <th>20</th>\n",
       "      <td>Pattern-based reverse-engineering of design co...</td>\n",
       "      <td>Reinhard Schauer</td>\n",
       "      <td>3</td>\n",
       "      <td>4</td>\n",
       "      <td>international conference on software engineering</td>\n",
       "    </tr>\n",
       "    <tr>\n",
       "      <th>21</th>\n",
       "      <td>Dimensions of software engineering course design</td>\n",
       "      <td>Mario Bernhart</td>\n",
       "      <td>5</td>\n",
       "      <td>1</td>\n",
       "      <td>international conference on software engineering</td>\n",
       "    </tr>\n",
       "    <tr>\n",
       "      <th>22</th>\n",
       "      <td>Challenges and Recommendations When Increasing...</td>\n",
       "      <td>Erik Arisholm</td>\n",
       "      <td>1</td>\n",
       "      <td>1</td>\n",
       "      <td>Lecture Notes in Computer Science</td>\n",
       "    </tr>\n",
       "    <tr>\n",
       "      <th>23</th>\n",
       "      <td>WitchDoctor: IDE support for real-time auto-co...</td>\n",
       "      <td>William G. Griswold</td>\n",
       "      <td>4</td>\n",
       "      <td>6</td>\n",
       "      <td>international conference on software engineering</td>\n",
       "    </tr>\n",
       "    <tr>\n",
       "      <th>24</th>\n",
       "      <td>Formal specifications better than function poi...</td>\n",
       "      <td>June Andronick</td>\n",
       "      <td>2</td>\n",
       "      <td>1</td>\n",
       "      <td>international conference on software engineering</td>\n",
       "    </tr>\n",
       "  </tbody>\n",
       "</table>\n",
       "</div>"
      ],
      "text/plain": [
       "                                              article               author  \\\n",
       "0   Assessing model-based testing: an empirical st...      Mikael Lindvall   \n",
       "1   Nonlinear Matrix Diffusion for Optic Flow Esti...          Thomas Brox   \n",
       "2         Finding circles by an array of accumulators        Carolyn Kimme   \n",
       "3   Nonlinear inverse scale space methods for imag...            Jinjun Xu   \n",
       "4   Intrinsic Evolvable Hardware in Digital Filter...           Yang Zhang   \n",
       "5   A formal semantics for computer languages and ...    Jerome A. Feldman   \n",
       "6   Test case management tools for accessibility t...   Christophe Strobbe   \n",
       "7                What can context do for web services       Zakaria Maamar   \n",
       "8   ITTALKS: An Application of Agents in the Seman...         Anupam Joshi   \n",
       "9   Query languages supporting descriptive rule mi...       Cyrille Masson   \n",
       "10    Skoll: distributed continuous quality assurance   Douglas C. Schmidt   \n",
       "11  InstantApps: A WYSIWYG model driven interprete...       Puneet Agarwal   \n",
       "12  The V-Man Project: Toward Autonomous Virtual C...     Stéphane Sanchez   \n",
       "13  Lessons learned from a software process modeli...         Herb Krasner   \n",
       "14  Model Generation with Existentially Quantified...     Slim Abdennadher   \n",
       "15  Can an identifiability-optimizing test protoco...       Hosam K. Fathy   \n",
       "16  Frequency regulation from flexible loads: Pote...               He Hao   \n",
       "17         Decision table programming and reliability       Doris Tamanaha   \n",
       "18  A history-based test prioritization technique ...         Jung-Min Kim   \n",
       "19  Real-time model predictive control for the opt...        Nicolas Wolff   \n",
       "20  Pattern-based reverse-engineering of design co...     Reinhard Schauer   \n",
       "21   Dimensions of software engineering course design       Mario Bernhart   \n",
       "22  Challenges and Recommendations When Increasing...        Erik Arisholm   \n",
       "23  WitchDoctor: IDE support for real-time auto-co...  William G. Griswold   \n",
       "24  Formal specifications better than function poi...       June Andronick   \n",
       "\n",
       "    citationsGiven  citationsReceived  \\\n",
       "0                1                  1   \n",
       "1                1                  3   \n",
       "2                1                  1   \n",
       "3                1                  1   \n",
       "4                1                  1   \n",
       "5                3                 10   \n",
       "6                1                  3   \n",
       "7                1                  1   \n",
       "8                1                  1   \n",
       "9                2                  1   \n",
       "10               2                  4   \n",
       "11               1                  1   \n",
       "12               1                  1   \n",
       "13               4                  1   \n",
       "14               1                  1   \n",
       "15               1                  1   \n",
       "16               1                  2   \n",
       "17               2                  2   \n",
       "18               1                 12   \n",
       "19               1                  1   \n",
       "20               3                  4   \n",
       "21               5                  1   \n",
       "22               1                  1   \n",
       "23               4                  6   \n",
       "24               2                  1   \n",
       "\n",
       "                                               venue  \n",
       "0   international conference on software engineering  \n",
       "1                  Lecture Notes in Computer Science  \n",
       "2                          Communications of The ACM  \n",
       "3                  Lecture Notes in Computer Science  \n",
       "4                  Lecture Notes in Computer Science  \n",
       "5                          Communications of The ACM  \n",
       "6                  Lecture Notes in Computer Science  \n",
       "7                          Communications of The ACM  \n",
       "8                  Lecture Notes in Computer Science  \n",
       "9                  Lecture Notes in Computer Science  \n",
       "10  international conference on software engineering  \n",
       "11  international conference on software engineering  \n",
       "12                 Lecture Notes in Computer Science  \n",
       "13                         Communications of The ACM  \n",
       "14                 Lecture Notes in Computer Science  \n",
       "15          advances in computing and communications  \n",
       "16          advances in computing and communications  \n",
       "17  international conference on software engineering  \n",
       "18  international conference on software engineering  \n",
       "19          advances in computing and communications  \n",
       "20  international conference on software engineering  \n",
       "21  international conference on software engineering  \n",
       "22                 Lecture Notes in Computer Science  \n",
       "23  international conference on software engineering  \n",
       "24  international conference on software engineering  "
      ]
     },
     "execution_count": 31,
     "metadata": {},
     "output_type": "execute_result"
    }
   ],
   "source": [
    "exploratory_query = \"\"\"\n",
    "MATCH (author:Author)<-[:AUTHOR]-(article:Article)-[:VENUE]->(venue)\n",
    "WITH article.title AS article, author.name AS author, venue.name AS venue, \n",
    "       size((article)-[:CITED]->()) AS citationsGiven, \n",
    "       size((article)<-[:CITED]-()) AS citationsReceived\n",
    "WHERE citationsGiven > 0 AND citationsReceived > 0\n",
    "RETURN article, author, citationsGiven, citationsReceived,venue\n",
    "ORDER BY rand()\n",
    "LIMIT 25\n",
    "\"\"\"\n",
    "\n",
    "with driver.session(database=\"neo4j\") as session:\n",
    "    result = session.run(exploratory_query)\n",
    "    df = pd.DataFrame([dict(record) for record in result])\n",
    "    \n",
    "df"
   ]
  },
  {
   "cell_type": "markdown",
   "metadata": {},
   "source": [
    "Let's look into the citation data more closely. We'll write a query that returns the number of citations that each article has, and then create a distribution of those counts using pandas `describe` function:"
   ]
  },
  {
   "cell_type": "code",
   "execution_count": 32,
   "metadata": {},
   "outputs": [
    {
     "data": {
      "text/html": [
       "<div>\n",
       "<style scoped>\n",
       "    .dataframe tbody tr th:only-of-type {\n",
       "        vertical-align: middle;\n",
       "    }\n",
       "\n",
       "    .dataframe tbody tr th {\n",
       "        vertical-align: top;\n",
       "    }\n",
       "\n",
       "    .dataframe thead th {\n",
       "        text-align: right;\n",
       "    }\n",
       "</style>\n",
       "<table border=\"1\" class=\"dataframe\">\n",
       "  <thead>\n",
       "    <tr style=\"text-align: right;\">\n",
       "      <th></th>\n",
       "      <th>citations</th>\n",
       "    </tr>\n",
       "  </thead>\n",
       "  <tbody>\n",
       "    <tr>\n",
       "      <th>count</th>\n",
       "      <td>51956.000</td>\n",
       "    </tr>\n",
       "    <tr>\n",
       "      <th>mean</th>\n",
       "      <td>0.553</td>\n",
       "    </tr>\n",
       "    <tr>\n",
       "      <th>std</th>\n",
       "      <td>1.301</td>\n",
       "    </tr>\n",
       "    <tr>\n",
       "      <th>min</th>\n",
       "      <td>0.000</td>\n",
       "    </tr>\n",
       "    <tr>\n",
       "      <th>25%</th>\n",
       "      <td>0.000</td>\n",
       "    </tr>\n",
       "    <tr>\n",
       "      <th>50%</th>\n",
       "      <td>0.000</td>\n",
       "    </tr>\n",
       "    <tr>\n",
       "      <th>75%</th>\n",
       "      <td>1.000</td>\n",
       "    </tr>\n",
       "    <tr>\n",
       "      <th>90%</th>\n",
       "      <td>2.000</td>\n",
       "    </tr>\n",
       "    <tr>\n",
       "      <th>99%</th>\n",
       "      <td>6.000</td>\n",
       "    </tr>\n",
       "    <tr>\n",
       "      <th>max</th>\n",
       "      <td>51.000</td>\n",
       "    </tr>\n",
       "  </tbody>\n",
       "</table>\n",
       "</div>"
      ],
      "text/plain": [
       "       citations\n",
       "count  51956.000\n",
       "mean       0.553\n",
       "std        1.301\n",
       "min        0.000\n",
       "25%        0.000\n",
       "50%        0.000\n",
       "75%        1.000\n",
       "90%        2.000\n",
       "99%        6.000\n",
       "max       51.000"
      ]
     },
     "execution_count": 32,
     "metadata": {},
     "output_type": "execute_result"
    }
   ],
   "source": [
    "query = \"\"\"\n",
    "MATCH (a:Article)\n",
    "RETURN size((a)-[:CITED]->()) AS citations\n",
    "\"\"\"\n",
    "\n",
    "with driver.session(database=\"neo4j\") as session:\n",
    "    result = session.run(query)\n",
    "    citation_df = pd.DataFrame([dict(record) for record in result])\n",
    "citation_df.describe([.25, .5, .75, .9, .99])"
   ]
  },
  {
   "cell_type": "markdown",
   "metadata": {},
   "source": [
    "Most articles are being cited very few times. 99% of articles have 1 citation or less. We do, however, have one article that's been cited more than 200 times. We'll use a log scale histogram to visualise the data;"
   ]
  },
  {
   "cell_type": "code",
   "execution_count": 33,
   "metadata": {},
   "outputs": [
    {
     "data": {
      "image/png": "[encoded data removed]",
      "text/plain": [
       "<Figure size 432x288 with 1 Axes>"
      ]
     },
     "metadata": {},
     "output_type": "display_data"
    }
   ],
   "source": [
    "fig1, ax1 = plt.subplots()\n",
    "ax1.hist(pd.Series(citation_df['citations'].dropna()), 1250, density=True, facecolor='g', alpha=0.75)\n",
    "ax1.set_xscale(\"log\")\n",
    "plt.tight_layout()\n",
    "plt.show()"
   ]
  },
  {
   "cell_type": "markdown",
   "metadata": {},
   "source": [
    "## Exercise\n",
    "\n",
    "* Can you create a similar chart showing the articles that cite the most other papers? Note that you'll only need to do a slight tweak of the Cypher query to do this. \n",
    "* What about a distribution of the number of articles published by authors?\n",
    "\n",
    "Keep the results of these exercises handy as they form part of the Check your understanding quiz at the end of this module."
   ]
  }
 ],
 "metadata": {
  "kernelspec": {
   "display_name": "Python 3",
   "language": "python",
   "name": "python3"
  },
  "language_info": {
   "codemirror_mode": {
    "name": "ipython",
    "version": 3
   },
   "file_extension": ".py",
   "mimetype": "text/x-python",
   "name": "python",
   "nbconvert_exporter": "python",
   "pygments_lexer": "ipython3",
   "version": "3.8.4"
  }
 },
 "nbformat": 4,
 "nbformat_minor": 2
}
