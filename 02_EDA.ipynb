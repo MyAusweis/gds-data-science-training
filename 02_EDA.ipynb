{
 "cells": [
  {
   "cell_type": "markdown",
   "metadata": {
    "colab_type": "text",
    "id": "view-in-github"
   },
   "source": [
    "<a href=\"https://colab.research.google.com/github/mneedham/data-science-training/blob/master/02_EDA.ipynb\" target=\"_parent\"><img src=\"https://colab.research.google.com/assets/colab-badge.svg\" alt=\"Open In Colab\"/></a>"
   ]
  },
  {
   "cell_type": "markdown",
   "metadata": {},
   "source": [
    "# Exploratory Data Analysis\n",
    "\n",
    "In this notebook we're going to explore the citation dataset. We should already have installed py2neo, pandas, and matplotlib when setting up our environment, so let's get those imported:"
   ]
  },
  {
   "cell_type": "code",
   "execution_count": 1,
   "metadata": {},
   "outputs": [],
   "source": [
    "from neo4j import GraphDatabase\n",
    "import pandas as pd\n",
    "\n",
    "import matplotlib \n",
    "import matplotlib.pyplot as plt\n",
    "\n",
    "plt.style.use('fivethirtyeight')\n",
    "pd.set_option('display.float_format', lambda x: '%.3f' % x)"
   ]
  },
  {
   "cell_type": "code",
   "execution_count": 2,
   "metadata": {},
   "outputs": [
    {
     "name": "stdout",
     "output_type": "stream",
     "text": [
      "Address(host='data-science-training-neo4j', port=7687)\n"
     ]
    }
   ],
   "source": [
    "driver = GraphDatabase.driver(\"bolt://data-science-training-neo4j\", auth=(\"neo4j\", \"admin\"))        \n",
    "print(driver.address)"
   ]
  },
  {
   "cell_type": "markdown",
   "metadata": {},
   "source": [
    "## What's in our database?\n",
    "\n",
    "Now we can run the following query to check how many nodes our database contains:"
   ]
  },
  {
   "cell_type": "code",
   "execution_count": 3,
   "metadata": {},
   "outputs": [
    {
     "name": "stdout",
     "output_type": "stream",
     "text": [
      "nodes: [<Node id=-3 labels={'Venue'} properties={'indexes': [], 'name': 'Venue', 'constraints': ['CONSTRAINT ON ( venue:Venue ) ASSERT venue.name IS UNIQUE']}>, <Node id=-1 labels={'Article'} properties={'indexes': ['title,abstract'], 'name': 'Article', 'constraints': ['CONSTRAINT ON ( article:Article ) ASSERT article.index IS UNIQUE']}>, <Node id=-2 labels={'Author'} properties={'indexes': [], 'name': 'Author', 'constraints': ['CONSTRAINT ON ( author:Author ) ASSERT author.name IS UNIQUE']}>]\n",
      "relationships: [<Relationship id=-1 nodes=(<Node id=-1 labels={'Article'} properties={'indexes': ['title,abstract'], 'name': 'Article', 'constraints': ['CONSTRAINT ON ( article:Article ) ASSERT article.index IS UNIQUE']}>, <Node id=-3 labels={'Venue'} properties={'indexes': [], 'name': 'Venue', 'constraints': ['CONSTRAINT ON ( venue:Venue ) ASSERT venue.name IS UNIQUE']}>) type='VENUE' properties={}>, <Relationship id=-2 nodes=(<Node id=-1 labels={'Article'} properties={'indexes': ['title,abstract'], 'name': 'Article', 'constraints': ['CONSTRAINT ON ( article:Article ) ASSERT article.index IS UNIQUE']}>, <Node id=-2 labels={'Author'} properties={'indexes': [], 'name': 'Author', 'constraints': ['CONSTRAINT ON ( author:Author ) ASSERT author.name IS UNIQUE']}>) type='AUTHOR' properties={}>, <Relationship id=-3 nodes=(<Node id=-1 labels={'Article'} properties={'indexes': ['title,abstract'], 'name': 'Article', 'constraints': ['CONSTRAINT ON ( article:Article ) ASSERT article.index IS UNIQUE']}>, <Node id=-1 labels={'Article'} properties={'indexes': ['title,abstract'], 'name': 'Article', 'constraints': ['CONSTRAINT ON ( article:Article ) ASSERT article.index IS UNIQUE']}>) type='CITED' properties={}>]\n"
     ]
    }
   ],
   "source": [
    "with driver.session() as session:\n",
    "    result = session.run(\"CALL db.schema()\")\n",
    "    for row in result:\n",
    "        print(f\"nodes: {row['nodes']}\")\n",
    "        print(f\"relationships: {row['relationships']}\")"
   ]
  },
  {
   "cell_type": "markdown",
   "metadata": {},
   "source": [
    "If we run `CALL db.schema()` in the Neo4j Browser (http://localhost:7474/browser/), we'll see the following visualisation:\n",
    "\n",
    "<img src=\"images/data-science-training.png\" alt=\"Graph Data Model\"/>\n"
   ]
  },
  {
   "cell_type": "markdown",
   "metadata": {},
   "source": [
    "Let's drill down a bit. How many nodes do we have for each of these labels?"
   ]
  },
  {
   "cell_type": "code",
   "execution_count": 13,
   "metadata": {},
   "outputs": [
    {
     "data": {
      "text/html": [
       "<div>\n",
       "<style scoped>\n",
       "    .dataframe tbody tr th:only-of-type {\n",
       "        vertical-align: middle;\n",
       "    }\n",
       "\n",
       "    .dataframe tbody tr th {\n",
       "        vertical-align: top;\n",
       "    }\n",
       "\n",
       "    .dataframe thead th {\n",
       "        text-align: right;\n",
       "    }\n",
       "</style>\n",
       "<table border=\"1\" class=\"dataframe\">\n",
       "  <thead>\n",
       "    <tr style=\"text-align: right;\">\n",
       "      <th></th>\n",
       "      <th>label</th>\n",
       "      <th>count</th>\n",
       "    </tr>\n",
       "  </thead>\n",
       "  <tbody>\n",
       "    <tr>\n",
       "      <th>2</th>\n",
       "      <td>Venue</td>\n",
       "      <td>4</td>\n",
       "    </tr>\n",
       "    <tr>\n",
       "      <th>0</th>\n",
       "      <td>Article</td>\n",
       "      <td>51956</td>\n",
       "    </tr>\n",
       "    <tr>\n",
       "      <th>1</th>\n",
       "      <td>Author</td>\n",
       "      <td>80299</td>\n",
       "    </tr>\n",
       "  </tbody>\n",
       "</table>\n",
       "</div>"
      ],
      "text/plain": [
       "     label  count\n",
       "2    Venue      4\n",
       "0  Article  51956\n",
       "1   Author  80299"
      ]
     },
     "execution_count": 13,
     "metadata": {},
     "output_type": "execute_result"
    }
   ],
   "source": [
    "result = {\"label\": [], \"count\": []}\n",
    "with driver.session() as session:\n",
    "    for row in session.run(\"CALL db.labels()\"):\n",
    "        label = row[\"label\"]\n",
    "        query = f\"MATCH (:`{label}`) RETURN count(*) as count\"\n",
    "        count = session.run(query).single()[\"count\"]\n",
    "        result[\"label\"].append(label)\n",
    "        result[\"count\"].append(count)\n",
    "nodes_df = pd.DataFrame(data=result)\n",
    "nodes_df.sort_values(\"count\")"
   ]
  },
  {
   "cell_type": "markdown",
   "metadata": {},
   "source": [
    "We can visualize the counts using matplotlib with the following code:"
   ]
  },
  {
   "cell_type": "code",
   "execution_count": 14,
   "metadata": {},
   "outputs": [
    {
     "data": {
      "image/png": "[encoded data removed]",
      "text/plain": [
       "<Figure size 432x288 with 1 Axes>"
      ]
     },
     "metadata": {},
     "output_type": "display_data"
    }
   ],
   "source": [
    "nodes_df.plot(kind='bar', x='label', y='count', legend=None, title=\"Node Cardinalities\")\n",
    "plt.yscale(\"log\")\n",
    "plt.xticks(rotation=45)\n",
    "plt.tight_layout()\n",
    "plt.show()"
   ]
  },
  {
   "cell_type": "markdown",
   "metadata": {},
   "source": [
    "And what types of relationships do we have?"
   ]
  },
  {
   "cell_type": "code",
   "execution_count": 18,
   "metadata": {},
   "outputs": [
    {
     "data": {
      "text/html": [
       "<div>\n",
       "<style scoped>\n",
       "    .dataframe tbody tr th:only-of-type {\n",
       "        vertical-align: middle;\n",
       "    }\n",
       "\n",
       "    .dataframe tbody tr th {\n",
       "        vertical-align: top;\n",
       "    }\n",
       "\n",
       "    .dataframe thead th {\n",
       "        text-align: right;\n",
       "    }\n",
       "</style>\n",
       "<table border=\"1\" class=\"dataframe\">\n",
       "  <thead>\n",
       "    <tr style=\"text-align: right;\">\n",
       "      <th></th>\n",
       "      <th>relType</th>\n",
       "      <th>count</th>\n",
       "    </tr>\n",
       "  </thead>\n",
       "  <tbody>\n",
       "    <tr>\n",
       "      <th>2</th>\n",
       "      <td>CITED</td>\n",
       "      <td>28706</td>\n",
       "    </tr>\n",
       "    <tr>\n",
       "      <th>0</th>\n",
       "      <td>VENUE</td>\n",
       "      <td>51956</td>\n",
       "    </tr>\n",
       "    <tr>\n",
       "      <th>1</th>\n",
       "      <td>AUTHOR</td>\n",
       "      <td>140575</td>\n",
       "    </tr>\n",
       "  </tbody>\n",
       "</table>\n",
       "</div>"
      ],
      "text/plain": [
       "  relType   count\n",
       "2   CITED   28706\n",
       "0   VENUE   51956\n",
       "1  AUTHOR  140575"
      ]
     },
     "execution_count": 18,
     "metadata": {},
     "output_type": "execute_result"
    }
   ],
   "source": [
    "result = {\"relType\": [], \"count\": []}\n",
    "with driver.session() as session:\n",
    "    for row in session.run(\"CALL db.relationshipTypes()\"):\n",
    "        relationship_type = row[\"relationshipType\"]\n",
    "        query = f\"MATCH ()-[:`{relationship_type}`]->() RETURN count(*) as count\"\n",
    "        count = session.run(query).single()[\"count\"]\n",
    "        result[\"relType\"].append(relationship_type)\n",
    "        result[\"count\"].append(count)\n",
    "rels_df = pd.DataFrame(data=result)\n",
    "rels_df.sort_values(\"count\")"
   ]
  },
  {
   "cell_type": "markdown",
   "metadata": {},
   "source": [
    "We can visualize the counts using matplotlib with the following code:"
   ]
  },
  {
   "cell_type": "code",
   "execution_count": 19,
   "metadata": {},
   "outputs": [
    {
     "data": {
      "image/png": "[encoded data removed]",
      "text/plain": [
       "<Figure size 432x288 with 1 Axes>"
      ]
     },
     "metadata": {},
     "output_type": "display_data"
    }
   ],
   "source": [
    "rels_df.plot(kind='bar', x='relType', y='count', legend=None, title=\"Relationship Cardinalities\")\n",
    "plt.xticks(rotation=45)\n",
    "plt.tight_layout()\n",
    "plt.show()"
   ]
  },
  {
   "cell_type": "markdown",
   "metadata": {},
   "source": [
    "Now let's explore the citation data. The following query finds 25 authors, articles, venues, and also shows the number of articles that article has cited, as well as the number of articles that it's been cited by."
   ]
  },
  {
   "cell_type": "code",
   "execution_count": 22,
   "metadata": {},
   "outputs": [
    {
     "data": {
      "text/html": [
       "<div>\n",
       "<style scoped>\n",
       "    .dataframe tbody tr th:only-of-type {\n",
       "        vertical-align: middle;\n",
       "    }\n",
       "\n",
       "    .dataframe tbody tr th {\n",
       "        vertical-align: top;\n",
       "    }\n",
       "\n",
       "    .dataframe thead th {\n",
       "        text-align: right;\n",
       "    }\n",
       "</style>\n",
       "<table border=\"1\" class=\"dataframe\">\n",
       "  <thead>\n",
       "    <tr style=\"text-align: right;\">\n",
       "      <th></th>\n",
       "      <th>article</th>\n",
       "      <th>author</th>\n",
       "      <th>citationsGiven</th>\n",
       "      <th>citationsReceived</th>\n",
       "      <th>venue</th>\n",
       "    </tr>\n",
       "  </thead>\n",
       "  <tbody>\n",
       "    <tr>\n",
       "      <th>0</th>\n",
       "      <td>SMT-Based Automatic Proof of ASM Model Refinement</td>\n",
       "      <td>Elvinia Riccobene</td>\n",
       "      <td>0</td>\n",
       "      <td>0</td>\n",
       "      <td>international conference on software engineering</td>\n",
       "    </tr>\n",
       "    <tr>\n",
       "      <th>1</th>\n",
       "      <td>DPS: An Architectural Style for Development of...</td>\n",
       "      <td>Mehdi Jazayeri</td>\n",
       "      <td>2</td>\n",
       "      <td>2</td>\n",
       "      <td>Lecture Notes in Computer Science</td>\n",
       "    </tr>\n",
       "    <tr>\n",
       "      <th>2</th>\n",
       "      <td>Validation of Object-Oriented Concurrent Desig...</td>\n",
       "      <td>Michaela Huhn</td>\n",
       "      <td>0</td>\n",
       "      <td>0</td>\n",
       "      <td>Lecture Notes in Computer Science</td>\n",
       "    </tr>\n",
       "    <tr>\n",
       "      <th>3</th>\n",
       "      <td>A region coloring technique for scene analysis</td>\n",
       "      <td>Azriel Rosenfeld</td>\n",
       "      <td>0</td>\n",
       "      <td>1</td>\n",
       "      <td>Communications of The ACM</td>\n",
       "    </tr>\n",
       "    <tr>\n",
       "      <th>4</th>\n",
       "      <td>Component Fusion for Face Detection in the Pre...</td>\n",
       "      <td>Dorin Comaniciu</td>\n",
       "      <td>0</td>\n",
       "      <td>0</td>\n",
       "      <td>Lecture Notes in Computer Science</td>\n",
       "    </tr>\n",
       "    <tr>\n",
       "      <th>5</th>\n",
       "      <td>Decision P Systems and the P!=NP Conjecture</td>\n",
       "      <td>Fernando Sancho-Caparrini</td>\n",
       "      <td>0</td>\n",
       "      <td>0</td>\n",
       "      <td>Lecture Notes in Computer Science</td>\n",
       "    </tr>\n",
       "    <tr>\n",
       "      <th>6</th>\n",
       "      <td>The descriptive complexity approach to LOGCFL</td>\n",
       "      <td>Pierre McKenzie</td>\n",
       "      <td>0</td>\n",
       "      <td>0</td>\n",
       "      <td>Lecture Notes in Computer Science</td>\n",
       "    </tr>\n",
       "    <tr>\n",
       "      <th>7</th>\n",
       "      <td>Practical indexing XML Document For Twig query</td>\n",
       "      <td>Reymond Wong</td>\n",
       "      <td>0</td>\n",
       "      <td>0</td>\n",
       "      <td>Lecture Notes in Computer Science</td>\n",
       "    </tr>\n",
       "    <tr>\n",
       "      <th>8</th>\n",
       "      <td>A model driven approach for software systems r...</td>\n",
       "      <td>David S. Rosenblum</td>\n",
       "      <td>2</td>\n",
       "      <td>0</td>\n",
       "      <td>international conference on software engineering</td>\n",
       "    </tr>\n",
       "    <tr>\n",
       "      <th>9</th>\n",
       "      <td>Progress and challenges in intelligent vehicle...</td>\n",
       "      <td>Mehrdad Nourani</td>\n",
       "      <td>1</td>\n",
       "      <td>0</td>\n",
       "      <td>Communications of The ACM</td>\n",
       "    </tr>\n",
       "    <tr>\n",
       "      <th>10</th>\n",
       "      <td>Heterogenous networks can be unstable at arbit...</td>\n",
       "      <td>Dimitrios Koukopoulos</td>\n",
       "      <td>0</td>\n",
       "      <td>0</td>\n",
       "      <td>Lecture Notes in Computer Science</td>\n",
       "    </tr>\n",
       "    <tr>\n",
       "      <th>11</th>\n",
       "      <td>An architectural style for high-performance as...</td>\n",
       "      <td>David Woollard</td>\n",
       "      <td>1</td>\n",
       "      <td>0</td>\n",
       "      <td>international conference on software engineering</td>\n",
       "    </tr>\n",
       "    <tr>\n",
       "      <th>12</th>\n",
       "      <td>Principles for digital preservation</td>\n",
       "      <td>Henry M. Gladney</td>\n",
       "      <td>0</td>\n",
       "      <td>0</td>\n",
       "      <td>Communications of The ACM</td>\n",
       "    </tr>\n",
       "    <tr>\n",
       "      <th>13</th>\n",
       "      <td>Mining SQL injection and cross site scripting ...</td>\n",
       "      <td>Lionel C. Briand</td>\n",
       "      <td>2</td>\n",
       "      <td>1</td>\n",
       "      <td>international conference on software engineering</td>\n",
       "    </tr>\n",
       "    <tr>\n",
       "      <th>14</th>\n",
       "      <td>BiCom: An Evaluation Framework for COTS Compon...</td>\n",
       "      <td>Fadrian Sudaman</td>\n",
       "      <td>0</td>\n",
       "      <td>0</td>\n",
       "      <td>Lecture Notes in Computer Science</td>\n",
       "    </tr>\n",
       "    <tr>\n",
       "      <th>15</th>\n",
       "      <td>Using MATCON to generate CASE tools that guide...</td>\n",
       "      <td>Richard Goodwin</td>\n",
       "      <td>0</td>\n",
       "      <td>0</td>\n",
       "      <td>international conference on software engineering</td>\n",
       "    </tr>\n",
       "    <tr>\n",
       "      <th>16</th>\n",
       "      <td>FireDetective: understanding ajax client/serve...</td>\n",
       "      <td>Nick Matthijssen</td>\n",
       "      <td>1</td>\n",
       "      <td>0</td>\n",
       "      <td>international conference on software engineering</td>\n",
       "    </tr>\n",
       "    <tr>\n",
       "      <th>17</th>\n",
       "      <td>Integrating synchronous and asynchronous inter...</td>\n",
       "      <td>Henrique João L. Domingos</td>\n",
       "      <td>0</td>\n",
       "      <td>3</td>\n",
       "      <td>Lecture Notes in Computer Science</td>\n",
       "    </tr>\n",
       "    <tr>\n",
       "      <th>18</th>\n",
       "      <td>A comparative analysis of various image enhanc...</td>\n",
       "      <td>Sanjay Singh</td>\n",
       "      <td>0</td>\n",
       "      <td>0</td>\n",
       "      <td>advances in computing and communications</td>\n",
       "    </tr>\n",
       "    <tr>\n",
       "      <th>19</th>\n",
       "      <td>A rescue robot control architecture ensuring s...</td>\n",
       "      <td>Holger Kenn</td>\n",
       "      <td>0</td>\n",
       "      <td>0</td>\n",
       "      <td>Lecture Notes in Computer Science</td>\n",
       "    </tr>\n",
       "    <tr>\n",
       "      <th>20</th>\n",
       "      <td>The framework for the message transport agent ...</td>\n",
       "      <td>Kyung-Chang Kim</td>\n",
       "      <td>0</td>\n",
       "      <td>0</td>\n",
       "      <td>Lecture Notes in Computer Science</td>\n",
       "    </tr>\n",
       "    <tr>\n",
       "      <th>21</th>\n",
       "      <td>Agent interaction protocols for the selection ...</td>\n",
       "      <td>Mihhail Matskin</td>\n",
       "      <td>1</td>\n",
       "      <td>0</td>\n",
       "      <td>Lecture Notes in Computer Science</td>\n",
       "    </tr>\n",
       "    <tr>\n",
       "      <th>22</th>\n",
       "      <td>Game engines in scientific research - Introduc...</td>\n",
       "      <td>Michael Lewis</td>\n",
       "      <td>0</td>\n",
       "      <td>0</td>\n",
       "      <td>Communications of The ACM</td>\n",
       "    </tr>\n",
       "    <tr>\n",
       "      <th>23</th>\n",
       "      <td>Towards self-organizing distribution structure...</td>\n",
       "      <td>Frank Eliassen</td>\n",
       "      <td>1</td>\n",
       "      <td>0</td>\n",
       "      <td>Lecture Notes in Computer Science</td>\n",
       "    </tr>\n",
       "    <tr>\n",
       "      <th>24</th>\n",
       "      <td>Evaluation of 3d face recognition using regist...</td>\n",
       "      <td>Theodoros Papatheodorou</td>\n",
       "      <td>0</td>\n",
       "      <td>0</td>\n",
       "      <td>Lecture Notes in Computer Science</td>\n",
       "    </tr>\n",
       "  </tbody>\n",
       "</table>\n",
       "</div>"
      ],
      "text/plain": [
       "                                              article  \\\n",
       "0   SMT-Based Automatic Proof of ASM Model Refinement   \n",
       "1   DPS: An Architectural Style for Development of...   \n",
       "2   Validation of Object-Oriented Concurrent Desig...   \n",
       "3      A region coloring technique for scene analysis   \n",
       "4   Component Fusion for Face Detection in the Pre...   \n",
       "5         Decision P Systems and the P!=NP Conjecture   \n",
       "6       The descriptive complexity approach to LOGCFL   \n",
       "7      Practical indexing XML Document For Twig query   \n",
       "8   A model driven approach for software systems r...   \n",
       "9   Progress and challenges in intelligent vehicle...   \n",
       "10  Heterogenous networks can be unstable at arbit...   \n",
       "11  An architectural style for high-performance as...   \n",
       "12                Principles for digital preservation   \n",
       "13  Mining SQL injection and cross site scripting ...   \n",
       "14  BiCom: An Evaluation Framework for COTS Compon...   \n",
       "15  Using MATCON to generate CASE tools that guide...   \n",
       "16  FireDetective: understanding ajax client/serve...   \n",
       "17  Integrating synchronous and asynchronous inter...   \n",
       "18  A comparative analysis of various image enhanc...   \n",
       "19  A rescue robot control architecture ensuring s...   \n",
       "20  The framework for the message transport agent ...   \n",
       "21  Agent interaction protocols for the selection ...   \n",
       "22  Game engines in scientific research - Introduc...   \n",
       "23  Towards self-organizing distribution structure...   \n",
       "24  Evaluation of 3d face recognition using regist...   \n",
       "\n",
       "                       author  citationsGiven  citationsReceived  \\\n",
       "0           Elvinia Riccobene               0                  0   \n",
       "1              Mehdi Jazayeri               2                  2   \n",
       "2               Michaela Huhn               0                  0   \n",
       "3            Azriel Rosenfeld               0                  1   \n",
       "4             Dorin Comaniciu               0                  0   \n",
       "5   Fernando Sancho-Caparrini               0                  0   \n",
       "6             Pierre McKenzie               0                  0   \n",
       "7                Reymond Wong               0                  0   \n",
       "8          David S. Rosenblum               2                  0   \n",
       "9             Mehrdad Nourani               1                  0   \n",
       "10      Dimitrios Koukopoulos               0                  0   \n",
       "11             David Woollard               1                  0   \n",
       "12           Henry M. Gladney               0                  0   \n",
       "13           Lionel C. Briand               2                  1   \n",
       "14            Fadrian Sudaman               0                  0   \n",
       "15            Richard Goodwin               0                  0   \n",
       "16           Nick Matthijssen               1                  0   \n",
       "17  Henrique João L. Domingos               0                  3   \n",
       "18               Sanjay Singh               0                  0   \n",
       "19                Holger Kenn               0                  0   \n",
       "20            Kyung-Chang Kim               0                  0   \n",
       "21            Mihhail Matskin               1                  0   \n",
       "22              Michael Lewis               0                  0   \n",
       "23             Frank Eliassen               1                  0   \n",
       "24    Theodoros Papatheodorou               0                  0   \n",
       "\n",
       "                                               venue  \n",
       "0   international conference on software engineering  \n",
       "1                  Lecture Notes in Computer Science  \n",
       "2                  Lecture Notes in Computer Science  \n",
       "3                          Communications of The ACM  \n",
       "4                  Lecture Notes in Computer Science  \n",
       "5                  Lecture Notes in Computer Science  \n",
       "6                  Lecture Notes in Computer Science  \n",
       "7                  Lecture Notes in Computer Science  \n",
       "8   international conference on software engineering  \n",
       "9                          Communications of The ACM  \n",
       "10                 Lecture Notes in Computer Science  \n",
       "11  international conference on software engineering  \n",
       "12                         Communications of The ACM  \n",
       "13  international conference on software engineering  \n",
       "14                 Lecture Notes in Computer Science  \n",
       "15  international conference on software engineering  \n",
       "16  international conference on software engineering  \n",
       "17                 Lecture Notes in Computer Science  \n",
       "18          advances in computing and communications  \n",
       "19                 Lecture Notes in Computer Science  \n",
       "20                 Lecture Notes in Computer Science  \n",
       "21                 Lecture Notes in Computer Science  \n",
       "22                         Communications of The ACM  \n",
       "23                 Lecture Notes in Computer Science  \n",
       "24                 Lecture Notes in Computer Science  "
      ]
     },
     "execution_count": 22,
     "metadata": {},
     "output_type": "execute_result"
    }
   ],
   "source": [
    "exploratory_query = \"\"\"\n",
    "MATCH (author:Author)<-[:AUTHOR]-(article:Article)-[:VENUE]->(venue)\n",
    "RETURN article.title AS article, author.name AS author, venue.name AS venue, \n",
    "       size((article)-[:CITED]->()) AS citationsGiven, size((article)<-[:CITED]-()) AS citationsReceived\n",
    "ORDER BY rand()\n",
    "LIMIT 25\n",
    "\"\"\"\n",
    "\n",
    "with driver.session() as session:\n",
    "    result = session.run(exploratory_query)\n",
    "\n",
    "pd.DataFrame([dict(record) for record in result])"
   ]
  },
  {
   "cell_type": "markdown",
   "metadata": {},
   "source": [
    "Let's look into the citation data more closely. We'll write a query that returns the number of citations that each article has, and then create a distribution of those counts using pandas `describe` function:"
   ]
  },
  {
   "cell_type": "code",
   "execution_count": 26,
   "metadata": {},
   "outputs": [
    {
     "data": {
      "text/html": [
       "<div>\n",
       "<style scoped>\n",
       "    .dataframe tbody tr th:only-of-type {\n",
       "        vertical-align: middle;\n",
       "    }\n",
       "\n",
       "    .dataframe tbody tr th {\n",
       "        vertical-align: top;\n",
       "    }\n",
       "\n",
       "    .dataframe thead th {\n",
       "        text-align: right;\n",
       "    }\n",
       "</style>\n",
       "<table border=\"1\" class=\"dataframe\">\n",
       "  <thead>\n",
       "    <tr style=\"text-align: right;\">\n",
       "      <th></th>\n",
       "      <th>citations</th>\n",
       "    </tr>\n",
       "  </thead>\n",
       "  <tbody>\n",
       "    <tr>\n",
       "      <th>count</th>\n",
       "      <td>51956.000</td>\n",
       "    </tr>\n",
       "    <tr>\n",
       "      <th>mean</th>\n",
       "      <td>0.553</td>\n",
       "    </tr>\n",
       "    <tr>\n",
       "      <th>std</th>\n",
       "      <td>2.418</td>\n",
       "    </tr>\n",
       "    <tr>\n",
       "      <th>min</th>\n",
       "      <td>0.000</td>\n",
       "    </tr>\n",
       "    <tr>\n",
       "      <th>25%</th>\n",
       "      <td>0.000</td>\n",
       "    </tr>\n",
       "    <tr>\n",
       "      <th>50%</th>\n",
       "      <td>0.000</td>\n",
       "    </tr>\n",
       "    <tr>\n",
       "      <th>75%</th>\n",
       "      <td>0.000</td>\n",
       "    </tr>\n",
       "    <tr>\n",
       "      <th>90%</th>\n",
       "      <td>1.000</td>\n",
       "    </tr>\n",
       "    <tr>\n",
       "      <th>99%</th>\n",
       "      <td>8.000</td>\n",
       "    </tr>\n",
       "    <tr>\n",
       "      <th>max</th>\n",
       "      <td>211.000</td>\n",
       "    </tr>\n",
       "  </tbody>\n",
       "</table>\n",
       "</div>"
      ],
      "text/plain": [
       "       citations\n",
       "count  51956.000\n",
       "mean       0.553\n",
       "std        2.418\n",
       "min        0.000\n",
       "25%        0.000\n",
       "50%        0.000\n",
       "75%        0.000\n",
       "90%        1.000\n",
       "99%        8.000\n",
       "max      211.000"
      ]
     },
     "execution_count": 26,
     "metadata": {},
     "output_type": "execute_result"
    }
   ],
   "source": [
    "query = \"\"\"\n",
    "MATCH (a:Article)\n",
    "RETURN size((a)<-[:CITED]-()) AS citations\n",
    "\"\"\"\n",
    "\n",
    "with driver.session() as session:\n",
    "    result = session.run(query)\n",
    "\n",
    "citation_df = pd.DataFrame([dict(record) for record in result])\n",
    "citation_df.describe([.25, .5, .75, .9, .99])"
   ]
  },
  {
   "cell_type": "markdown",
   "metadata": {},
   "source": [
    "Most articles are being cited very few times. 99% of articles have 1 citation or less. We do, however, have one article that's been cited more than 200 times. We'll use a log scale histogram to visualise the data;"
   ]
  },
  {
   "cell_type": "code",
   "execution_count": 27,
   "metadata": {},
   "outputs": [
    {
     "data": {
      "image/png": "[encoded data removed]",
      "text/plain": [
       "<Figure size 432x288 with 1 Axes>"
      ]
     },
     "metadata": {},
     "output_type": "display_data"
    }
   ],
   "source": [
    "ax1.hist(pd.Series(citation_df['citations'].dropna()), 1250, density=True, facecolor='g', alpha=0.75)\n",
    "ax1.set_xscale(\"log\")\n",
    "plt.tight_layout()\n",
    "plt.show()"
   ]
  },
  {
   "cell_type": "markdown",
   "metadata": {},
   "source": [
    "## Exercise\n",
    "\n",
    "* Can you create a similar chart showing the articles that cite the most other papers? Note that you'll only need to do a slight tweak of the Cypher query to do this. \n",
    "* What about a distribution of the number of articles published by authors?\n",
    "\n",
    "Keep the results of these exercises handy as they form part of the Check your understanding quiz at the end of this module."
   ]
  }
 ],
 "metadata": {
  "kernelspec": {
   "display_name": "Python 3",
   "language": "python",
   "name": "python3"
  },
  "language_info": {
   "codemirror_mode": {
    "name": "ipython",
    "version": 3
   },
   "file_extension": ".py",
   "mimetype": "text/x-python",
   "name": "python",
   "nbconvert_exporter": "python",
   "pygments_lexer": "ipython3",
   "version": "3.7.3"
  }
 },
 "nbformat": 4,
 "nbformat_minor": 2
}
